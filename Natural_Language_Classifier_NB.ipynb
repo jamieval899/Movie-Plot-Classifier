{
  "nbformat": 4,
  "nbformat_minor": 0,
  "metadata": {
    "colab": {
      "provenance": [],
      "toc_visible": true
    },
    "kernelspec": {
      "name": "python3",
      "display_name": "Python 3"
    },
    "language_info": {
      "name": "python"
    },
    "gpuClass": "standard",
    "widgets": {
      "application/vnd.jupyter.widget-state+json": {
        "390f6d816ac3487d906c1a0fc313966e": {
          "model_module": "@jupyter-widgets/controls",
          "model_name": "HBoxModel",
          "model_module_version": "1.5.0",
          "state": {
            "_dom_classes": [],
            "_model_module": "@jupyter-widgets/controls",
            "_model_module_version": "1.5.0",
            "_model_name": "HBoxModel",
            "_view_count": null,
            "_view_module": "@jupyter-widgets/controls",
            "_view_module_version": "1.5.0",
            "_view_name": "HBoxView",
            "box_style": "",
            "children": [
              "IPY_MODEL_3979f7a2928040c48677c7f95464bdad",
              "IPY_MODEL_bfef95befc7d451cabb21041d2dc3160",
              "IPY_MODEL_980c912f390b451b9b9ba0a10b9a92bc"
            ],
            "layout": "IPY_MODEL_9e7ad3de00574bf5a5dbbfc09cb850fe"
          }
        },
        "3979f7a2928040c48677c7f95464bdad": {
          "model_module": "@jupyter-widgets/controls",
          "model_name": "HTMLModel",
          "model_module_version": "1.5.0",
          "state": {
            "_dom_classes": [],
            "_model_module": "@jupyter-widgets/controls",
            "_model_module_version": "1.5.0",
            "_model_name": "HTMLModel",
            "_view_count": null,
            "_view_module": "@jupyter-widgets/controls",
            "_view_module_version": "1.5.0",
            "_view_name": "HTMLView",
            "description": "",
            "description_tooltip": null,
            "layout": "IPY_MODEL_16362123d31b4cfab4abd04d37753057",
            "placeholder": "​",
            "style": "IPY_MODEL_24f0b9e8d8dc4c159765ab9d63557880",
            "value": "Downloading (…)lve/main/config.json: 100%"
          }
        },
        "bfef95befc7d451cabb21041d2dc3160": {
          "model_module": "@jupyter-widgets/controls",
          "model_name": "FloatProgressModel",
          "model_module_version": "1.5.0",
          "state": {
            "_dom_classes": [],
            "_model_module": "@jupyter-widgets/controls",
            "_model_module_version": "1.5.0",
            "_model_name": "FloatProgressModel",
            "_view_count": null,
            "_view_module": "@jupyter-widgets/controls",
            "_view_module_version": "1.5.0",
            "_view_name": "ProgressView",
            "bar_style": "success",
            "description": "",
            "description_tooltip": null,
            "layout": "IPY_MODEL_f55ad7c8d05a45f2b6ef05957400341d",
            "max": 481,
            "min": 0,
            "orientation": "horizontal",
            "style": "IPY_MODEL_95385afc94484ce39118b60b013385a8",
            "value": 481
          }
        },
        "980c912f390b451b9b9ba0a10b9a92bc": {
          "model_module": "@jupyter-widgets/controls",
          "model_name": "HTMLModel",
          "model_module_version": "1.5.0",
          "state": {
            "_dom_classes": [],
            "_model_module": "@jupyter-widgets/controls",
            "_model_module_version": "1.5.0",
            "_model_name": "HTMLModel",
            "_view_count": null,
            "_view_module": "@jupyter-widgets/controls",
            "_view_module_version": "1.5.0",
            "_view_name": "HTMLView",
            "description": "",
            "description_tooltip": null,
            "layout": "IPY_MODEL_de3013fd928f4656b29c9e7caf7cd33e",
            "placeholder": "​",
            "style": "IPY_MODEL_5b5190cfa71e40b1adc1c42d7f346338",
            "value": " 481/481 [00:00&lt;00:00, 15.3kB/s]"
          }
        },
        "9e7ad3de00574bf5a5dbbfc09cb850fe": {
          "model_module": "@jupyter-widgets/base",
          "model_name": "LayoutModel",
          "model_module_version": "1.2.0",
          "state": {
            "_model_module": "@jupyter-widgets/base",
            "_model_module_version": "1.2.0",
            "_model_name": "LayoutModel",
            "_view_count": null,
            "_view_module": "@jupyter-widgets/base",
            "_view_module_version": "1.2.0",
            "_view_name": "LayoutView",
            "align_content": null,
            "align_items": null,
            "align_self": null,
            "border": null,
            "bottom": null,
            "display": null,
            "flex": null,
            "flex_flow": null,
            "grid_area": null,
            "grid_auto_columns": null,
            "grid_auto_flow": null,
            "grid_auto_rows": null,
            "grid_column": null,
            "grid_gap": null,
            "grid_row": null,
            "grid_template_areas": null,
            "grid_template_columns": null,
            "grid_template_rows": null,
            "height": null,
            "justify_content": null,
            "justify_items": null,
            "left": null,
            "margin": null,
            "max_height": null,
            "max_width": null,
            "min_height": null,
            "min_width": null,
            "object_fit": null,
            "object_position": null,
            "order": null,
            "overflow": null,
            "overflow_x": null,
            "overflow_y": null,
            "padding": null,
            "right": null,
            "top": null,
            "visibility": null,
            "width": null
          }
        },
        "16362123d31b4cfab4abd04d37753057": {
          "model_module": "@jupyter-widgets/base",
          "model_name": "LayoutModel",
          "model_module_version": "1.2.0",
          "state": {
            "_model_module": "@jupyter-widgets/base",
            "_model_module_version": "1.2.0",
            "_model_name": "LayoutModel",
            "_view_count": null,
            "_view_module": "@jupyter-widgets/base",
            "_view_module_version": "1.2.0",
            "_view_name": "LayoutView",
            "align_content": null,
            "align_items": null,
            "align_self": null,
            "border": null,
            "bottom": null,
            "display": null,
            "flex": null,
            "flex_flow": null,
            "grid_area": null,
            "grid_auto_columns": null,
            "grid_auto_flow": null,
            "grid_auto_rows": null,
            "grid_column": null,
            "grid_gap": null,
            "grid_row": null,
            "grid_template_areas": null,
            "grid_template_columns": null,
            "grid_template_rows": null,
            "height": null,
            "justify_content": null,
            "justify_items": null,
            "left": null,
            "margin": null,
            "max_height": null,
            "max_width": null,
            "min_height": null,
            "min_width": null,
            "object_fit": null,
            "object_position": null,
            "order": null,
            "overflow": null,
            "overflow_x": null,
            "overflow_y": null,
            "padding": null,
            "right": null,
            "top": null,
            "visibility": null,
            "width": null
          }
        },
        "24f0b9e8d8dc4c159765ab9d63557880": {
          "model_module": "@jupyter-widgets/controls",
          "model_name": "DescriptionStyleModel",
          "model_module_version": "1.5.0",
          "state": {
            "_model_module": "@jupyter-widgets/controls",
            "_model_module_version": "1.5.0",
            "_model_name": "DescriptionStyleModel",
            "_view_count": null,
            "_view_module": "@jupyter-widgets/base",
            "_view_module_version": "1.2.0",
            "_view_name": "StyleView",
            "description_width": ""
          }
        },
        "f55ad7c8d05a45f2b6ef05957400341d": {
          "model_module": "@jupyter-widgets/base",
          "model_name": "LayoutModel",
          "model_module_version": "1.2.0",
          "state": {
            "_model_module": "@jupyter-widgets/base",
            "_model_module_version": "1.2.0",
            "_model_name": "LayoutModel",
            "_view_count": null,
            "_view_module": "@jupyter-widgets/base",
            "_view_module_version": "1.2.0",
            "_view_name": "LayoutView",
            "align_content": null,
            "align_items": null,
            "align_self": null,
            "border": null,
            "bottom": null,
            "display": null,
            "flex": null,
            "flex_flow": null,
            "grid_area": null,
            "grid_auto_columns": null,
            "grid_auto_flow": null,
            "grid_auto_rows": null,
            "grid_column": null,
            "grid_gap": null,
            "grid_row": null,
            "grid_template_areas": null,
            "grid_template_columns": null,
            "grid_template_rows": null,
            "height": null,
            "justify_content": null,
            "justify_items": null,
            "left": null,
            "margin": null,
            "max_height": null,
            "max_width": null,
            "min_height": null,
            "min_width": null,
            "object_fit": null,
            "object_position": null,
            "order": null,
            "overflow": null,
            "overflow_x": null,
            "overflow_y": null,
            "padding": null,
            "right": null,
            "top": null,
            "visibility": null,
            "width": null
          }
        },
        "95385afc94484ce39118b60b013385a8": {
          "model_module": "@jupyter-widgets/controls",
          "model_name": "ProgressStyleModel",
          "model_module_version": "1.5.0",
          "state": {
            "_model_module": "@jupyter-widgets/controls",
            "_model_module_version": "1.5.0",
            "_model_name": "ProgressStyleModel",
            "_view_count": null,
            "_view_module": "@jupyter-widgets/base",
            "_view_module_version": "1.2.0",
            "_view_name": "StyleView",
            "bar_color": null,
            "description_width": ""
          }
        },
        "de3013fd928f4656b29c9e7caf7cd33e": {
          "model_module": "@jupyter-widgets/base",
          "model_name": "LayoutModel",
          "model_module_version": "1.2.0",
          "state": {
            "_model_module": "@jupyter-widgets/base",
            "_model_module_version": "1.2.0",
            "_model_name": "LayoutModel",
            "_view_count": null,
            "_view_module": "@jupyter-widgets/base",
            "_view_module_version": "1.2.0",
            "_view_name": "LayoutView",
            "align_content": null,
            "align_items": null,
            "align_self": null,
            "border": null,
            "bottom": null,
            "display": null,
            "flex": null,
            "flex_flow": null,
            "grid_area": null,
            "grid_auto_columns": null,
            "grid_auto_flow": null,
            "grid_auto_rows": null,
            "grid_column": null,
            "grid_gap": null,
            "grid_row": null,
            "grid_template_areas": null,
            "grid_template_columns": null,
            "grid_template_rows": null,
            "height": null,
            "justify_content": null,
            "justify_items": null,
            "left": null,
            "margin": null,
            "max_height": null,
            "max_width": null,
            "min_height": null,
            "min_width": null,
            "object_fit": null,
            "object_position": null,
            "order": null,
            "overflow": null,
            "overflow_x": null,
            "overflow_y": null,
            "padding": null,
            "right": null,
            "top": null,
            "visibility": null,
            "width": null
          }
        },
        "5b5190cfa71e40b1adc1c42d7f346338": {
          "model_module": "@jupyter-widgets/controls",
          "model_name": "DescriptionStyleModel",
          "model_module_version": "1.5.0",
          "state": {
            "_model_module": "@jupyter-widgets/controls",
            "_model_module_version": "1.5.0",
            "_model_name": "DescriptionStyleModel",
            "_view_count": null,
            "_view_module": "@jupyter-widgets/base",
            "_view_module_version": "1.2.0",
            "_view_name": "StyleView",
            "description_width": ""
          }
        },
        "726e9bc1e76b40b39071435c7987b745": {
          "model_module": "@jupyter-widgets/controls",
          "model_name": "HBoxModel",
          "model_module_version": "1.5.0",
          "state": {
            "_dom_classes": [],
            "_model_module": "@jupyter-widgets/controls",
            "_model_module_version": "1.5.0",
            "_model_name": "HBoxModel",
            "_view_count": null,
            "_view_module": "@jupyter-widgets/controls",
            "_view_module_version": "1.5.0",
            "_view_name": "HBoxView",
            "box_style": "",
            "children": [
              "IPY_MODEL_d51cd3839d07492ebac32d5f1a37bee6",
              "IPY_MODEL_9f6d247c432c478fb53d05e44185ae40",
              "IPY_MODEL_67c692e313504ea6b8bd482c66467636"
            ],
            "layout": "IPY_MODEL_b041abdfbd474672b1f8092cb3f6b28b"
          }
        },
        "d51cd3839d07492ebac32d5f1a37bee6": {
          "model_module": "@jupyter-widgets/controls",
          "model_name": "HTMLModel",
          "model_module_version": "1.5.0",
          "state": {
            "_dom_classes": [],
            "_model_module": "@jupyter-widgets/controls",
            "_model_module_version": "1.5.0",
            "_model_name": "HTMLModel",
            "_view_count": null,
            "_view_module": "@jupyter-widgets/controls",
            "_view_module_version": "1.5.0",
            "_view_name": "HTMLView",
            "description": "",
            "description_tooltip": null,
            "layout": "IPY_MODEL_ef2b02000b7b442fa60d9ed80774894d",
            "placeholder": "​",
            "style": "IPY_MODEL_1e0f7cc287064df3bfef4d0a7fe0f52c",
            "value": "Downloading pytorch_model.bin: 100%"
          }
        },
        "9f6d247c432c478fb53d05e44185ae40": {
          "model_module": "@jupyter-widgets/controls",
          "model_name": "FloatProgressModel",
          "model_module_version": "1.5.0",
          "state": {
            "_dom_classes": [],
            "_model_module": "@jupyter-widgets/controls",
            "_model_module_version": "1.5.0",
            "_model_name": "FloatProgressModel",
            "_view_count": null,
            "_view_module": "@jupyter-widgets/controls",
            "_view_module_version": "1.5.0",
            "_view_name": "ProgressView",
            "bar_style": "success",
            "description": "",
            "description_tooltip": null,
            "layout": "IPY_MODEL_7ed35ef5766f4f8dbf37cc5ddb8462cc",
            "max": 501200538,
            "min": 0,
            "orientation": "horizontal",
            "style": "IPY_MODEL_2fae50cb5e4340a29fb76f0e679f638f",
            "value": 501200538
          }
        },
        "67c692e313504ea6b8bd482c66467636": {
          "model_module": "@jupyter-widgets/controls",
          "model_name": "HTMLModel",
          "model_module_version": "1.5.0",
          "state": {
            "_dom_classes": [],
            "_model_module": "@jupyter-widgets/controls",
            "_model_module_version": "1.5.0",
            "_model_name": "HTMLModel",
            "_view_count": null,
            "_view_module": "@jupyter-widgets/controls",
            "_view_module_version": "1.5.0",
            "_view_name": "HTMLView",
            "description": "",
            "description_tooltip": null,
            "layout": "IPY_MODEL_0c087ec4b75042f2aa2c1c0ee31976e2",
            "placeholder": "​",
            "style": "IPY_MODEL_70054c58388c44d4ac56702e78d38379",
            "value": " 501M/501M [00:05&lt;00:00, 99.9MB/s]"
          }
        },
        "b041abdfbd474672b1f8092cb3f6b28b": {
          "model_module": "@jupyter-widgets/base",
          "model_name": "LayoutModel",
          "model_module_version": "1.2.0",
          "state": {
            "_model_module": "@jupyter-widgets/base",
            "_model_module_version": "1.2.0",
            "_model_name": "LayoutModel",
            "_view_count": null,
            "_view_module": "@jupyter-widgets/base",
            "_view_module_version": "1.2.0",
            "_view_name": "LayoutView",
            "align_content": null,
            "align_items": null,
            "align_self": null,
            "border": null,
            "bottom": null,
            "display": null,
            "flex": null,
            "flex_flow": null,
            "grid_area": null,
            "grid_auto_columns": null,
            "grid_auto_flow": null,
            "grid_auto_rows": null,
            "grid_column": null,
            "grid_gap": null,
            "grid_row": null,
            "grid_template_areas": null,
            "grid_template_columns": null,
            "grid_template_rows": null,
            "height": null,
            "justify_content": null,
            "justify_items": null,
            "left": null,
            "margin": null,
            "max_height": null,
            "max_width": null,
            "min_height": null,
            "min_width": null,
            "object_fit": null,
            "object_position": null,
            "order": null,
            "overflow": null,
            "overflow_x": null,
            "overflow_y": null,
            "padding": null,
            "right": null,
            "top": null,
            "visibility": null,
            "width": null
          }
        },
        "ef2b02000b7b442fa60d9ed80774894d": {
          "model_module": "@jupyter-widgets/base",
          "model_name": "LayoutModel",
          "model_module_version": "1.2.0",
          "state": {
            "_model_module": "@jupyter-widgets/base",
            "_model_module_version": "1.2.0",
            "_model_name": "LayoutModel",
            "_view_count": null,
            "_view_module": "@jupyter-widgets/base",
            "_view_module_version": "1.2.0",
            "_view_name": "LayoutView",
            "align_content": null,
            "align_items": null,
            "align_self": null,
            "border": null,
            "bottom": null,
            "display": null,
            "flex": null,
            "flex_flow": null,
            "grid_area": null,
            "grid_auto_columns": null,
            "grid_auto_flow": null,
            "grid_auto_rows": null,
            "grid_column": null,
            "grid_gap": null,
            "grid_row": null,
            "grid_template_areas": null,
            "grid_template_columns": null,
            "grid_template_rows": null,
            "height": null,
            "justify_content": null,
            "justify_items": null,
            "left": null,
            "margin": null,
            "max_height": null,
            "max_width": null,
            "min_height": null,
            "min_width": null,
            "object_fit": null,
            "object_position": null,
            "order": null,
            "overflow": null,
            "overflow_x": null,
            "overflow_y": null,
            "padding": null,
            "right": null,
            "top": null,
            "visibility": null,
            "width": null
          }
        },
        "1e0f7cc287064df3bfef4d0a7fe0f52c": {
          "model_module": "@jupyter-widgets/controls",
          "model_name": "DescriptionStyleModel",
          "model_module_version": "1.5.0",
          "state": {
            "_model_module": "@jupyter-widgets/controls",
            "_model_module_version": "1.5.0",
            "_model_name": "DescriptionStyleModel",
            "_view_count": null,
            "_view_module": "@jupyter-widgets/base",
            "_view_module_version": "1.2.0",
            "_view_name": "StyleView",
            "description_width": ""
          }
        },
        "7ed35ef5766f4f8dbf37cc5ddb8462cc": {
          "model_module": "@jupyter-widgets/base",
          "model_name": "LayoutModel",
          "model_module_version": "1.2.0",
          "state": {
            "_model_module": "@jupyter-widgets/base",
            "_model_module_version": "1.2.0",
            "_model_name": "LayoutModel",
            "_view_count": null,
            "_view_module": "@jupyter-widgets/base",
            "_view_module_version": "1.2.0",
            "_view_name": "LayoutView",
            "align_content": null,
            "align_items": null,
            "align_self": null,
            "border": null,
            "bottom": null,
            "display": null,
            "flex": null,
            "flex_flow": null,
            "grid_area": null,
            "grid_auto_columns": null,
            "grid_auto_flow": null,
            "grid_auto_rows": null,
            "grid_column": null,
            "grid_gap": null,
            "grid_row": null,
            "grid_template_areas": null,
            "grid_template_columns": null,
            "grid_template_rows": null,
            "height": null,
            "justify_content": null,
            "justify_items": null,
            "left": null,
            "margin": null,
            "max_height": null,
            "max_width": null,
            "min_height": null,
            "min_width": null,
            "object_fit": null,
            "object_position": null,
            "order": null,
            "overflow": null,
            "overflow_x": null,
            "overflow_y": null,
            "padding": null,
            "right": null,
            "top": null,
            "visibility": null,
            "width": null
          }
        },
        "2fae50cb5e4340a29fb76f0e679f638f": {
          "model_module": "@jupyter-widgets/controls",
          "model_name": "ProgressStyleModel",
          "model_module_version": "1.5.0",
          "state": {
            "_model_module": "@jupyter-widgets/controls",
            "_model_module_version": "1.5.0",
            "_model_name": "ProgressStyleModel",
            "_view_count": null,
            "_view_module": "@jupyter-widgets/base",
            "_view_module_version": "1.2.0",
            "_view_name": "StyleView",
            "bar_color": null,
            "description_width": ""
          }
        },
        "0c087ec4b75042f2aa2c1c0ee31976e2": {
          "model_module": "@jupyter-widgets/base",
          "model_name": "LayoutModel",
          "model_module_version": "1.2.0",
          "state": {
            "_model_module": "@jupyter-widgets/base",
            "_model_module_version": "1.2.0",
            "_model_name": "LayoutModel",
            "_view_count": null,
            "_view_module": "@jupyter-widgets/base",
            "_view_module_version": "1.2.0",
            "_view_name": "LayoutView",
            "align_content": null,
            "align_items": null,
            "align_self": null,
            "border": null,
            "bottom": null,
            "display": null,
            "flex": null,
            "flex_flow": null,
            "grid_area": null,
            "grid_auto_columns": null,
            "grid_auto_flow": null,
            "grid_auto_rows": null,
            "grid_column": null,
            "grid_gap": null,
            "grid_row": null,
            "grid_template_areas": null,
            "grid_template_columns": null,
            "grid_template_rows": null,
            "height": null,
            "justify_content": null,
            "justify_items": null,
            "left": null,
            "margin": null,
            "max_height": null,
            "max_width": null,
            "min_height": null,
            "min_width": null,
            "object_fit": null,
            "object_position": null,
            "order": null,
            "overflow": null,
            "overflow_x": null,
            "overflow_y": null,
            "padding": null,
            "right": null,
            "top": null,
            "visibility": null,
            "width": null
          }
        },
        "70054c58388c44d4ac56702e78d38379": {
          "model_module": "@jupyter-widgets/controls",
          "model_name": "DescriptionStyleModel",
          "model_module_version": "1.5.0",
          "state": {
            "_model_module": "@jupyter-widgets/controls",
            "_model_module_version": "1.5.0",
            "_model_name": "DescriptionStyleModel",
            "_view_count": null,
            "_view_module": "@jupyter-widgets/base",
            "_view_module_version": "1.2.0",
            "_view_name": "StyleView",
            "description_width": ""
          }
        },
        "c726e2519f3c4b8b9bd7742df3c6c5ec": {
          "model_module": "@jupyter-widgets/controls",
          "model_name": "HBoxModel",
          "model_module_version": "1.5.0",
          "state": {
            "_dom_classes": [],
            "_model_module": "@jupyter-widgets/controls",
            "_model_module_version": "1.5.0",
            "_model_name": "HBoxModel",
            "_view_count": null,
            "_view_module": "@jupyter-widgets/controls",
            "_view_module_version": "1.5.0",
            "_view_name": "HBoxView",
            "box_style": "",
            "children": [
              "IPY_MODEL_60bdbd028a9a4cb29d8edfbdd5589f06",
              "IPY_MODEL_a1fe4fd903a74337978ad7ab05f66b58",
              "IPY_MODEL_77aa611be74c4fab99d492b3a946b3c8"
            ],
            "layout": "IPY_MODEL_ea77b3ae39ef4387a532fdea2df68f9c"
          }
        },
        "60bdbd028a9a4cb29d8edfbdd5589f06": {
          "model_module": "@jupyter-widgets/controls",
          "model_name": "HTMLModel",
          "model_module_version": "1.5.0",
          "state": {
            "_dom_classes": [],
            "_model_module": "@jupyter-widgets/controls",
            "_model_module_version": "1.5.0",
            "_model_name": "HTMLModel",
            "_view_count": null,
            "_view_module": "@jupyter-widgets/controls",
            "_view_module_version": "1.5.0",
            "_view_name": "HTMLView",
            "description": "",
            "description_tooltip": null,
            "layout": "IPY_MODEL_a2d9e2a87fa54783bec801ea6f4ad707",
            "placeholder": "​",
            "style": "IPY_MODEL_4b73b6838aef4c49bebc47a604a4178b",
            "value": "Downloading (…)olve/main/vocab.json: 100%"
          }
        },
        "a1fe4fd903a74337978ad7ab05f66b58": {
          "model_module": "@jupyter-widgets/controls",
          "model_name": "FloatProgressModel",
          "model_module_version": "1.5.0",
          "state": {
            "_dom_classes": [],
            "_model_module": "@jupyter-widgets/controls",
            "_model_module_version": "1.5.0",
            "_model_name": "FloatProgressModel",
            "_view_count": null,
            "_view_module": "@jupyter-widgets/controls",
            "_view_module_version": "1.5.0",
            "_view_name": "ProgressView",
            "bar_style": "success",
            "description": "",
            "description_tooltip": null,
            "layout": "IPY_MODEL_2e5ad19163664992ba39236c6bad94a2",
            "max": 898823,
            "min": 0,
            "orientation": "horizontal",
            "style": "IPY_MODEL_b48700b2cf904faeaafc1150de411ed2",
            "value": 898823
          }
        },
        "77aa611be74c4fab99d492b3a946b3c8": {
          "model_module": "@jupyter-widgets/controls",
          "model_name": "HTMLModel",
          "model_module_version": "1.5.0",
          "state": {
            "_dom_classes": [],
            "_model_module": "@jupyter-widgets/controls",
            "_model_module_version": "1.5.0",
            "_model_name": "HTMLModel",
            "_view_count": null,
            "_view_module": "@jupyter-widgets/controls",
            "_view_module_version": "1.5.0",
            "_view_name": "HTMLView",
            "description": "",
            "description_tooltip": null,
            "layout": "IPY_MODEL_fcf44e1fdc0d48a4848c6b970cbfc00b",
            "placeholder": "​",
            "style": "IPY_MODEL_0f594c1520f249e8ad4d1305531d583d",
            "value": " 899k/899k [00:00&lt;00:00, 949kB/s]"
          }
        },
        "ea77b3ae39ef4387a532fdea2df68f9c": {
          "model_module": "@jupyter-widgets/base",
          "model_name": "LayoutModel",
          "model_module_version": "1.2.0",
          "state": {
            "_model_module": "@jupyter-widgets/base",
            "_model_module_version": "1.2.0",
            "_model_name": "LayoutModel",
            "_view_count": null,
            "_view_module": "@jupyter-widgets/base",
            "_view_module_version": "1.2.0",
            "_view_name": "LayoutView",
            "align_content": null,
            "align_items": null,
            "align_self": null,
            "border": null,
            "bottom": null,
            "display": null,
            "flex": null,
            "flex_flow": null,
            "grid_area": null,
            "grid_auto_columns": null,
            "grid_auto_flow": null,
            "grid_auto_rows": null,
            "grid_column": null,
            "grid_gap": null,
            "grid_row": null,
            "grid_template_areas": null,
            "grid_template_columns": null,
            "grid_template_rows": null,
            "height": null,
            "justify_content": null,
            "justify_items": null,
            "left": null,
            "margin": null,
            "max_height": null,
            "max_width": null,
            "min_height": null,
            "min_width": null,
            "object_fit": null,
            "object_position": null,
            "order": null,
            "overflow": null,
            "overflow_x": null,
            "overflow_y": null,
            "padding": null,
            "right": null,
            "top": null,
            "visibility": null,
            "width": null
          }
        },
        "a2d9e2a87fa54783bec801ea6f4ad707": {
          "model_module": "@jupyter-widgets/base",
          "model_name": "LayoutModel",
          "model_module_version": "1.2.0",
          "state": {
            "_model_module": "@jupyter-widgets/base",
            "_model_module_version": "1.2.0",
            "_model_name": "LayoutModel",
            "_view_count": null,
            "_view_module": "@jupyter-widgets/base",
            "_view_module_version": "1.2.0",
            "_view_name": "LayoutView",
            "align_content": null,
            "align_items": null,
            "align_self": null,
            "border": null,
            "bottom": null,
            "display": null,
            "flex": null,
            "flex_flow": null,
            "grid_area": null,
            "grid_auto_columns": null,
            "grid_auto_flow": null,
            "grid_auto_rows": null,
            "grid_column": null,
            "grid_gap": null,
            "grid_row": null,
            "grid_template_areas": null,
            "grid_template_columns": null,
            "grid_template_rows": null,
            "height": null,
            "justify_content": null,
            "justify_items": null,
            "left": null,
            "margin": null,
            "max_height": null,
            "max_width": null,
            "min_height": null,
            "min_width": null,
            "object_fit": null,
            "object_position": null,
            "order": null,
            "overflow": null,
            "overflow_x": null,
            "overflow_y": null,
            "padding": null,
            "right": null,
            "top": null,
            "visibility": null,
            "width": null
          }
        },
        "4b73b6838aef4c49bebc47a604a4178b": {
          "model_module": "@jupyter-widgets/controls",
          "model_name": "DescriptionStyleModel",
          "model_module_version": "1.5.0",
          "state": {
            "_model_module": "@jupyter-widgets/controls",
            "_model_module_version": "1.5.0",
            "_model_name": "DescriptionStyleModel",
            "_view_count": null,
            "_view_module": "@jupyter-widgets/base",
            "_view_module_version": "1.2.0",
            "_view_name": "StyleView",
            "description_width": ""
          }
        },
        "2e5ad19163664992ba39236c6bad94a2": {
          "model_module": "@jupyter-widgets/base",
          "model_name": "LayoutModel",
          "model_module_version": "1.2.0",
          "state": {
            "_model_module": "@jupyter-widgets/base",
            "_model_module_version": "1.2.0",
            "_model_name": "LayoutModel",
            "_view_count": null,
            "_view_module": "@jupyter-widgets/base",
            "_view_module_version": "1.2.0",
            "_view_name": "LayoutView",
            "align_content": null,
            "align_items": null,
            "align_self": null,
            "border": null,
            "bottom": null,
            "display": null,
            "flex": null,
            "flex_flow": null,
            "grid_area": null,
            "grid_auto_columns": null,
            "grid_auto_flow": null,
            "grid_auto_rows": null,
            "grid_column": null,
            "grid_gap": null,
            "grid_row": null,
            "grid_template_areas": null,
            "grid_template_columns": null,
            "grid_template_rows": null,
            "height": null,
            "justify_content": null,
            "justify_items": null,
            "left": null,
            "margin": null,
            "max_height": null,
            "max_width": null,
            "min_height": null,
            "min_width": null,
            "object_fit": null,
            "object_position": null,
            "order": null,
            "overflow": null,
            "overflow_x": null,
            "overflow_y": null,
            "padding": null,
            "right": null,
            "top": null,
            "visibility": null,
            "width": null
          }
        },
        "b48700b2cf904faeaafc1150de411ed2": {
          "model_module": "@jupyter-widgets/controls",
          "model_name": "ProgressStyleModel",
          "model_module_version": "1.5.0",
          "state": {
            "_model_module": "@jupyter-widgets/controls",
            "_model_module_version": "1.5.0",
            "_model_name": "ProgressStyleModel",
            "_view_count": null,
            "_view_module": "@jupyter-widgets/base",
            "_view_module_version": "1.2.0",
            "_view_name": "StyleView",
            "bar_color": null,
            "description_width": ""
          }
        },
        "fcf44e1fdc0d48a4848c6b970cbfc00b": {
          "model_module": "@jupyter-widgets/base",
          "model_name": "LayoutModel",
          "model_module_version": "1.2.0",
          "state": {
            "_model_module": "@jupyter-widgets/base",
            "_model_module_version": "1.2.0",
            "_model_name": "LayoutModel",
            "_view_count": null,
            "_view_module": "@jupyter-widgets/base",
            "_view_module_version": "1.2.0",
            "_view_name": "LayoutView",
            "align_content": null,
            "align_items": null,
            "align_self": null,
            "border": null,
            "bottom": null,
            "display": null,
            "flex": null,
            "flex_flow": null,
            "grid_area": null,
            "grid_auto_columns": null,
            "grid_auto_flow": null,
            "grid_auto_rows": null,
            "grid_column": null,
            "grid_gap": null,
            "grid_row": null,
            "grid_template_areas": null,
            "grid_template_columns": null,
            "grid_template_rows": null,
            "height": null,
            "justify_content": null,
            "justify_items": null,
            "left": null,
            "margin": null,
            "max_height": null,
            "max_width": null,
            "min_height": null,
            "min_width": null,
            "object_fit": null,
            "object_position": null,
            "order": null,
            "overflow": null,
            "overflow_x": null,
            "overflow_y": null,
            "padding": null,
            "right": null,
            "top": null,
            "visibility": null,
            "width": null
          }
        },
        "0f594c1520f249e8ad4d1305531d583d": {
          "model_module": "@jupyter-widgets/controls",
          "model_name": "DescriptionStyleModel",
          "model_module_version": "1.5.0",
          "state": {
            "_model_module": "@jupyter-widgets/controls",
            "_model_module_version": "1.5.0",
            "_model_name": "DescriptionStyleModel",
            "_view_count": null,
            "_view_module": "@jupyter-widgets/base",
            "_view_module_version": "1.2.0",
            "_view_name": "StyleView",
            "description_width": ""
          }
        },
        "d03977b9817f4d2ca962dbaa35352acd": {
          "model_module": "@jupyter-widgets/controls",
          "model_name": "HBoxModel",
          "model_module_version": "1.5.0",
          "state": {
            "_dom_classes": [],
            "_model_module": "@jupyter-widgets/controls",
            "_model_module_version": "1.5.0",
            "_model_name": "HBoxModel",
            "_view_count": null,
            "_view_module": "@jupyter-widgets/controls",
            "_view_module_version": "1.5.0",
            "_view_name": "HBoxView",
            "box_style": "",
            "children": [
              "IPY_MODEL_9f1b115c5db9402490e83cd344c05e93",
              "IPY_MODEL_5234e68c8ba84dd1819be224caa2ad96",
              "IPY_MODEL_350d7461d32f4a03a8dfcfe6bab50970"
            ],
            "layout": "IPY_MODEL_6e38ce798f444e7b96ae055b292ba9d2"
          }
        },
        "9f1b115c5db9402490e83cd344c05e93": {
          "model_module": "@jupyter-widgets/controls",
          "model_name": "HTMLModel",
          "model_module_version": "1.5.0",
          "state": {
            "_dom_classes": [],
            "_model_module": "@jupyter-widgets/controls",
            "_model_module_version": "1.5.0",
            "_model_name": "HTMLModel",
            "_view_count": null,
            "_view_module": "@jupyter-widgets/controls",
            "_view_module_version": "1.5.0",
            "_view_name": "HTMLView",
            "description": "",
            "description_tooltip": null,
            "layout": "IPY_MODEL_3c2733a7eea84c089f392d693acfb700",
            "placeholder": "​",
            "style": "IPY_MODEL_e3ec9581fb5c49dd8366e1d7014441b7",
            "value": "Downloading (…)olve/main/merges.txt: 100%"
          }
        },
        "5234e68c8ba84dd1819be224caa2ad96": {
          "model_module": "@jupyter-widgets/controls",
          "model_name": "FloatProgressModel",
          "model_module_version": "1.5.0",
          "state": {
            "_dom_classes": [],
            "_model_module": "@jupyter-widgets/controls",
            "_model_module_version": "1.5.0",
            "_model_name": "FloatProgressModel",
            "_view_count": null,
            "_view_module": "@jupyter-widgets/controls",
            "_view_module_version": "1.5.0",
            "_view_name": "ProgressView",
            "bar_style": "success",
            "description": "",
            "description_tooltip": null,
            "layout": "IPY_MODEL_a5c20c99b65f4a7dad056ac6dadbc9ef",
            "max": 456318,
            "min": 0,
            "orientation": "horizontal",
            "style": "IPY_MODEL_e92d37134c3c4fe68cd4dd10c6dae528",
            "value": 456318
          }
        },
        "350d7461d32f4a03a8dfcfe6bab50970": {
          "model_module": "@jupyter-widgets/controls",
          "model_name": "HTMLModel",
          "model_module_version": "1.5.0",
          "state": {
            "_dom_classes": [],
            "_model_module": "@jupyter-widgets/controls",
            "_model_module_version": "1.5.0",
            "_model_name": "HTMLModel",
            "_view_count": null,
            "_view_module": "@jupyter-widgets/controls",
            "_view_module_version": "1.5.0",
            "_view_name": "HTMLView",
            "description": "",
            "description_tooltip": null,
            "layout": "IPY_MODEL_54f9fa1643f2479797f33c6b01926586",
            "placeholder": "​",
            "style": "IPY_MODEL_f1e012754e0d46afb7212e2684a8fb26",
            "value": " 456k/456k [00:00&lt;00:00, 620kB/s]"
          }
        },
        "6e38ce798f444e7b96ae055b292ba9d2": {
          "model_module": "@jupyter-widgets/base",
          "model_name": "LayoutModel",
          "model_module_version": "1.2.0",
          "state": {
            "_model_module": "@jupyter-widgets/base",
            "_model_module_version": "1.2.0",
            "_model_name": "LayoutModel",
            "_view_count": null,
            "_view_module": "@jupyter-widgets/base",
            "_view_module_version": "1.2.0",
            "_view_name": "LayoutView",
            "align_content": null,
            "align_items": null,
            "align_self": null,
            "border": null,
            "bottom": null,
            "display": null,
            "flex": null,
            "flex_flow": null,
            "grid_area": null,
            "grid_auto_columns": null,
            "grid_auto_flow": null,
            "grid_auto_rows": null,
            "grid_column": null,
            "grid_gap": null,
            "grid_row": null,
            "grid_template_areas": null,
            "grid_template_columns": null,
            "grid_template_rows": null,
            "height": null,
            "justify_content": null,
            "justify_items": null,
            "left": null,
            "margin": null,
            "max_height": null,
            "max_width": null,
            "min_height": null,
            "min_width": null,
            "object_fit": null,
            "object_position": null,
            "order": null,
            "overflow": null,
            "overflow_x": null,
            "overflow_y": null,
            "padding": null,
            "right": null,
            "top": null,
            "visibility": null,
            "width": null
          }
        },
        "3c2733a7eea84c089f392d693acfb700": {
          "model_module": "@jupyter-widgets/base",
          "model_name": "LayoutModel",
          "model_module_version": "1.2.0",
          "state": {
            "_model_module": "@jupyter-widgets/base",
            "_model_module_version": "1.2.0",
            "_model_name": "LayoutModel",
            "_view_count": null,
            "_view_module": "@jupyter-widgets/base",
            "_view_module_version": "1.2.0",
            "_view_name": "LayoutView",
            "align_content": null,
            "align_items": null,
            "align_self": null,
            "border": null,
            "bottom": null,
            "display": null,
            "flex": null,
            "flex_flow": null,
            "grid_area": null,
            "grid_auto_columns": null,
            "grid_auto_flow": null,
            "grid_auto_rows": null,
            "grid_column": null,
            "grid_gap": null,
            "grid_row": null,
            "grid_template_areas": null,
            "grid_template_columns": null,
            "grid_template_rows": null,
            "height": null,
            "justify_content": null,
            "justify_items": null,
            "left": null,
            "margin": null,
            "max_height": null,
            "max_width": null,
            "min_height": null,
            "min_width": null,
            "object_fit": null,
            "object_position": null,
            "order": null,
            "overflow": null,
            "overflow_x": null,
            "overflow_y": null,
            "padding": null,
            "right": null,
            "top": null,
            "visibility": null,
            "width": null
          }
        },
        "e3ec9581fb5c49dd8366e1d7014441b7": {
          "model_module": "@jupyter-widgets/controls",
          "model_name": "DescriptionStyleModel",
          "model_module_version": "1.5.0",
          "state": {
            "_model_module": "@jupyter-widgets/controls",
            "_model_module_version": "1.5.0",
            "_model_name": "DescriptionStyleModel",
            "_view_count": null,
            "_view_module": "@jupyter-widgets/base",
            "_view_module_version": "1.2.0",
            "_view_name": "StyleView",
            "description_width": ""
          }
        },
        "a5c20c99b65f4a7dad056ac6dadbc9ef": {
          "model_module": "@jupyter-widgets/base",
          "model_name": "LayoutModel",
          "model_module_version": "1.2.0",
          "state": {
            "_model_module": "@jupyter-widgets/base",
            "_model_module_version": "1.2.0",
            "_model_name": "LayoutModel",
            "_view_count": null,
            "_view_module": "@jupyter-widgets/base",
            "_view_module_version": "1.2.0",
            "_view_name": "LayoutView",
            "align_content": null,
            "align_items": null,
            "align_self": null,
            "border": null,
            "bottom": null,
            "display": null,
            "flex": null,
            "flex_flow": null,
            "grid_area": null,
            "grid_auto_columns": null,
            "grid_auto_flow": null,
            "grid_auto_rows": null,
            "grid_column": null,
            "grid_gap": null,
            "grid_row": null,
            "grid_template_areas": null,
            "grid_template_columns": null,
            "grid_template_rows": null,
            "height": null,
            "justify_content": null,
            "justify_items": null,
            "left": null,
            "margin": null,
            "max_height": null,
            "max_width": null,
            "min_height": null,
            "min_width": null,
            "object_fit": null,
            "object_position": null,
            "order": null,
            "overflow": null,
            "overflow_x": null,
            "overflow_y": null,
            "padding": null,
            "right": null,
            "top": null,
            "visibility": null,
            "width": null
          }
        },
        "e92d37134c3c4fe68cd4dd10c6dae528": {
          "model_module": "@jupyter-widgets/controls",
          "model_name": "ProgressStyleModel",
          "model_module_version": "1.5.0",
          "state": {
            "_model_module": "@jupyter-widgets/controls",
            "_model_module_version": "1.5.0",
            "_model_name": "ProgressStyleModel",
            "_view_count": null,
            "_view_module": "@jupyter-widgets/base",
            "_view_module_version": "1.2.0",
            "_view_name": "StyleView",
            "bar_color": null,
            "description_width": ""
          }
        },
        "54f9fa1643f2479797f33c6b01926586": {
          "model_module": "@jupyter-widgets/base",
          "model_name": "LayoutModel",
          "model_module_version": "1.2.0",
          "state": {
            "_model_module": "@jupyter-widgets/base",
            "_model_module_version": "1.2.0",
            "_model_name": "LayoutModel",
            "_view_count": null,
            "_view_module": "@jupyter-widgets/base",
            "_view_module_version": "1.2.0",
            "_view_name": "LayoutView",
            "align_content": null,
            "align_items": null,
            "align_self": null,
            "border": null,
            "bottom": null,
            "display": null,
            "flex": null,
            "flex_flow": null,
            "grid_area": null,
            "grid_auto_columns": null,
            "grid_auto_flow": null,
            "grid_auto_rows": null,
            "grid_column": null,
            "grid_gap": null,
            "grid_row": null,
            "grid_template_areas": null,
            "grid_template_columns": null,
            "grid_template_rows": null,
            "height": null,
            "justify_content": null,
            "justify_items": null,
            "left": null,
            "margin": null,
            "max_height": null,
            "max_width": null,
            "min_height": null,
            "min_width": null,
            "object_fit": null,
            "object_position": null,
            "order": null,
            "overflow": null,
            "overflow_x": null,
            "overflow_y": null,
            "padding": null,
            "right": null,
            "top": null,
            "visibility": null,
            "width": null
          }
        },
        "f1e012754e0d46afb7212e2684a8fb26": {
          "model_module": "@jupyter-widgets/controls",
          "model_name": "DescriptionStyleModel",
          "model_module_version": "1.5.0",
          "state": {
            "_model_module": "@jupyter-widgets/controls",
            "_model_module_version": "1.5.0",
            "_model_name": "DescriptionStyleModel",
            "_view_count": null,
            "_view_module": "@jupyter-widgets/base",
            "_view_module_version": "1.2.0",
            "_view_name": "StyleView",
            "description_width": ""
          }
        },
        "d5d6286233774749bd08bd9a2a1a468d": {
          "model_module": "@jupyter-widgets/controls",
          "model_name": "HBoxModel",
          "model_module_version": "1.5.0",
          "state": {
            "_dom_classes": [],
            "_model_module": "@jupyter-widgets/controls",
            "_model_module_version": "1.5.0",
            "_model_name": "HBoxModel",
            "_view_count": null,
            "_view_module": "@jupyter-widgets/controls",
            "_view_module_version": "1.5.0",
            "_view_name": "HBoxView",
            "box_style": "",
            "children": [
              "IPY_MODEL_d7daaeea88f74e0c81f2323bde1e44f1",
              "IPY_MODEL_6ebde08b2a5440ef8cf8867d05c920b1",
              "IPY_MODEL_d2deb22eeac54223831d679463dbdb38"
            ],
            "layout": "IPY_MODEL_848eac59cbdd42d88bec38aef0166c15"
          }
        },
        "d7daaeea88f74e0c81f2323bde1e44f1": {
          "model_module": "@jupyter-widgets/controls",
          "model_name": "HTMLModel",
          "model_module_version": "1.5.0",
          "state": {
            "_dom_classes": [],
            "_model_module": "@jupyter-widgets/controls",
            "_model_module_version": "1.5.0",
            "_model_name": "HTMLModel",
            "_view_count": null,
            "_view_module": "@jupyter-widgets/controls",
            "_view_module_version": "1.5.0",
            "_view_name": "HTMLView",
            "description": "",
            "description_tooltip": null,
            "layout": "IPY_MODEL_eb97336c74d5437fbbf1f63ed36418ab",
            "placeholder": "​",
            "style": "IPY_MODEL_59788a9448db4f9a93693772445019de",
            "value": "Downloading (…)/main/tokenizer.json: 100%"
          }
        },
        "6ebde08b2a5440ef8cf8867d05c920b1": {
          "model_module": "@jupyter-widgets/controls",
          "model_name": "FloatProgressModel",
          "model_module_version": "1.5.0",
          "state": {
            "_dom_classes": [],
            "_model_module": "@jupyter-widgets/controls",
            "_model_module_version": "1.5.0",
            "_model_name": "FloatProgressModel",
            "_view_count": null,
            "_view_module": "@jupyter-widgets/controls",
            "_view_module_version": "1.5.0",
            "_view_name": "ProgressView",
            "bar_style": "success",
            "description": "",
            "description_tooltip": null,
            "layout": "IPY_MODEL_ec79faab17a749af9603bd296419dc1f",
            "max": 1355863,
            "min": 0,
            "orientation": "horizontal",
            "style": "IPY_MODEL_1969cb06ef4a4fefb834cdb45c853d45",
            "value": 1355863
          }
        },
        "d2deb22eeac54223831d679463dbdb38": {
          "model_module": "@jupyter-widgets/controls",
          "model_name": "HTMLModel",
          "model_module_version": "1.5.0",
          "state": {
            "_dom_classes": [],
            "_model_module": "@jupyter-widgets/controls",
            "_model_module_version": "1.5.0",
            "_model_name": "HTMLModel",
            "_view_count": null,
            "_view_module": "@jupyter-widgets/controls",
            "_view_module_version": "1.5.0",
            "_view_name": "HTMLView",
            "description": "",
            "description_tooltip": null,
            "layout": "IPY_MODEL_1ab702e718cd40538ea80bd9e6df301c",
            "placeholder": "​",
            "style": "IPY_MODEL_7fb6ffee4fc547dc8f43125ca54b9b41",
            "value": " 1.36M/1.36M [00:00&lt;00:00, 1.43MB/s]"
          }
        },
        "848eac59cbdd42d88bec38aef0166c15": {
          "model_module": "@jupyter-widgets/base",
          "model_name": "LayoutModel",
          "model_module_version": "1.2.0",
          "state": {
            "_model_module": "@jupyter-widgets/base",
            "_model_module_version": "1.2.0",
            "_model_name": "LayoutModel",
            "_view_count": null,
            "_view_module": "@jupyter-widgets/base",
            "_view_module_version": "1.2.0",
            "_view_name": "LayoutView",
            "align_content": null,
            "align_items": null,
            "align_self": null,
            "border": null,
            "bottom": null,
            "display": null,
            "flex": null,
            "flex_flow": null,
            "grid_area": null,
            "grid_auto_columns": null,
            "grid_auto_flow": null,
            "grid_auto_rows": null,
            "grid_column": null,
            "grid_gap": null,
            "grid_row": null,
            "grid_template_areas": null,
            "grid_template_columns": null,
            "grid_template_rows": null,
            "height": null,
            "justify_content": null,
            "justify_items": null,
            "left": null,
            "margin": null,
            "max_height": null,
            "max_width": null,
            "min_height": null,
            "min_width": null,
            "object_fit": null,
            "object_position": null,
            "order": null,
            "overflow": null,
            "overflow_x": null,
            "overflow_y": null,
            "padding": null,
            "right": null,
            "top": null,
            "visibility": null,
            "width": null
          }
        },
        "eb97336c74d5437fbbf1f63ed36418ab": {
          "model_module": "@jupyter-widgets/base",
          "model_name": "LayoutModel",
          "model_module_version": "1.2.0",
          "state": {
            "_model_module": "@jupyter-widgets/base",
            "_model_module_version": "1.2.0",
            "_model_name": "LayoutModel",
            "_view_count": null,
            "_view_module": "@jupyter-widgets/base",
            "_view_module_version": "1.2.0",
            "_view_name": "LayoutView",
            "align_content": null,
            "align_items": null,
            "align_self": null,
            "border": null,
            "bottom": null,
            "display": null,
            "flex": null,
            "flex_flow": null,
            "grid_area": null,
            "grid_auto_columns": null,
            "grid_auto_flow": null,
            "grid_auto_rows": null,
            "grid_column": null,
            "grid_gap": null,
            "grid_row": null,
            "grid_template_areas": null,
            "grid_template_columns": null,
            "grid_template_rows": null,
            "height": null,
            "justify_content": null,
            "justify_items": null,
            "left": null,
            "margin": null,
            "max_height": null,
            "max_width": null,
            "min_height": null,
            "min_width": null,
            "object_fit": null,
            "object_position": null,
            "order": null,
            "overflow": null,
            "overflow_x": null,
            "overflow_y": null,
            "padding": null,
            "right": null,
            "top": null,
            "visibility": null,
            "width": null
          }
        },
        "59788a9448db4f9a93693772445019de": {
          "model_module": "@jupyter-widgets/controls",
          "model_name": "DescriptionStyleModel",
          "model_module_version": "1.5.0",
          "state": {
            "_model_module": "@jupyter-widgets/controls",
            "_model_module_version": "1.5.0",
            "_model_name": "DescriptionStyleModel",
            "_view_count": null,
            "_view_module": "@jupyter-widgets/base",
            "_view_module_version": "1.2.0",
            "_view_name": "StyleView",
            "description_width": ""
          }
        },
        "ec79faab17a749af9603bd296419dc1f": {
          "model_module": "@jupyter-widgets/base",
          "model_name": "LayoutModel",
          "model_module_version": "1.2.0",
          "state": {
            "_model_module": "@jupyter-widgets/base",
            "_model_module_version": "1.2.0",
            "_model_name": "LayoutModel",
            "_view_count": null,
            "_view_module": "@jupyter-widgets/base",
            "_view_module_version": "1.2.0",
            "_view_name": "LayoutView",
            "align_content": null,
            "align_items": null,
            "align_self": null,
            "border": null,
            "bottom": null,
            "display": null,
            "flex": null,
            "flex_flow": null,
            "grid_area": null,
            "grid_auto_columns": null,
            "grid_auto_flow": null,
            "grid_auto_rows": null,
            "grid_column": null,
            "grid_gap": null,
            "grid_row": null,
            "grid_template_areas": null,
            "grid_template_columns": null,
            "grid_template_rows": null,
            "height": null,
            "justify_content": null,
            "justify_items": null,
            "left": null,
            "margin": null,
            "max_height": null,
            "max_width": null,
            "min_height": null,
            "min_width": null,
            "object_fit": null,
            "object_position": null,
            "order": null,
            "overflow": null,
            "overflow_x": null,
            "overflow_y": null,
            "padding": null,
            "right": null,
            "top": null,
            "visibility": null,
            "width": null
          }
        },
        "1969cb06ef4a4fefb834cdb45c853d45": {
          "model_module": "@jupyter-widgets/controls",
          "model_name": "ProgressStyleModel",
          "model_module_version": "1.5.0",
          "state": {
            "_model_module": "@jupyter-widgets/controls",
            "_model_module_version": "1.5.0",
            "_model_name": "ProgressStyleModel",
            "_view_count": null,
            "_view_module": "@jupyter-widgets/base",
            "_view_module_version": "1.2.0",
            "_view_name": "StyleView",
            "bar_color": null,
            "description_width": ""
          }
        },
        "1ab702e718cd40538ea80bd9e6df301c": {
          "model_module": "@jupyter-widgets/base",
          "model_name": "LayoutModel",
          "model_module_version": "1.2.0",
          "state": {
            "_model_module": "@jupyter-widgets/base",
            "_model_module_version": "1.2.0",
            "_model_name": "LayoutModel",
            "_view_count": null,
            "_view_module": "@jupyter-widgets/base",
            "_view_module_version": "1.2.0",
            "_view_name": "LayoutView",
            "align_content": null,
            "align_items": null,
            "align_self": null,
            "border": null,
            "bottom": null,
            "display": null,
            "flex": null,
            "flex_flow": null,
            "grid_area": null,
            "grid_auto_columns": null,
            "grid_auto_flow": null,
            "grid_auto_rows": null,
            "grid_column": null,
            "grid_gap": null,
            "grid_row": null,
            "grid_template_areas": null,
            "grid_template_columns": null,
            "grid_template_rows": null,
            "height": null,
            "justify_content": null,
            "justify_items": null,
            "left": null,
            "margin": null,
            "max_height": null,
            "max_width": null,
            "min_height": null,
            "min_width": null,
            "object_fit": null,
            "object_position": null,
            "order": null,
            "overflow": null,
            "overflow_x": null,
            "overflow_y": null,
            "padding": null,
            "right": null,
            "top": null,
            "visibility": null,
            "width": null
          }
        },
        "7fb6ffee4fc547dc8f43125ca54b9b41": {
          "model_module": "@jupyter-widgets/controls",
          "model_name": "DescriptionStyleModel",
          "model_module_version": "1.5.0",
          "state": {
            "_model_module": "@jupyter-widgets/controls",
            "_model_module_version": "1.5.0",
            "_model_name": "DescriptionStyleModel",
            "_view_count": null,
            "_view_module": "@jupyter-widgets/base",
            "_view_module_version": "1.2.0",
            "_view_name": "StyleView",
            "description_width": ""
          }
        },
        "1b6a5c5aa14f476dae0edc71ba05059b": {
          "model_module": "@jupyter-widgets/controls",
          "model_name": "HBoxModel",
          "model_module_version": "1.5.0",
          "state": {
            "_dom_classes": [],
            "_model_module": "@jupyter-widgets/controls",
            "_model_module_version": "1.5.0",
            "_model_name": "HBoxModel",
            "_view_count": null,
            "_view_module": "@jupyter-widgets/controls",
            "_view_module_version": "1.5.0",
            "_view_name": "HBoxView",
            "box_style": "",
            "children": [
              "IPY_MODEL_7de00529ae074937b95c5121536b9dce",
              "IPY_MODEL_4d54bdb68cb44caeb85939cc4fe416ec",
              "IPY_MODEL_6dcc07997e3b460d9cc3fa9360929a91"
            ],
            "layout": "IPY_MODEL_61aa3dc2c60b4e93b30fb9f8791a854f"
          }
        },
        "7de00529ae074937b95c5121536b9dce": {
          "model_module": "@jupyter-widgets/controls",
          "model_name": "HTMLModel",
          "model_module_version": "1.5.0",
          "state": {
            "_dom_classes": [],
            "_model_module": "@jupyter-widgets/controls",
            "_model_module_version": "1.5.0",
            "_model_name": "HTMLModel",
            "_view_count": null,
            "_view_module": "@jupyter-widgets/controls",
            "_view_module_version": "1.5.0",
            "_view_name": "HTMLView",
            "description": "",
            "description_tooltip": null,
            "layout": "IPY_MODEL_6cb8a5d3701a48458c51ab2816422a16",
            "placeholder": "​",
            "style": "IPY_MODEL_db9f3ff8cd634d6eaa55bd1b06afef00",
            "value": "Map: 100%"
          }
        },
        "4d54bdb68cb44caeb85939cc4fe416ec": {
          "model_module": "@jupyter-widgets/controls",
          "model_name": "FloatProgressModel",
          "model_module_version": "1.5.0",
          "state": {
            "_dom_classes": [],
            "_model_module": "@jupyter-widgets/controls",
            "_model_module_version": "1.5.0",
            "_model_name": "FloatProgressModel",
            "_view_count": null,
            "_view_module": "@jupyter-widgets/controls",
            "_view_module_version": "1.5.0",
            "_view_name": "ProgressView",
            "bar_style": "",
            "description": "",
            "description_tooltip": null,
            "layout": "IPY_MODEL_fabed92b1cf64727a76259e037c3b321",
            "max": 1909,
            "min": 0,
            "orientation": "horizontal",
            "style": "IPY_MODEL_c912078cecb44fc1ae634ab8c1a3a282",
            "value": 1909
          }
        },
        "6dcc07997e3b460d9cc3fa9360929a91": {
          "model_module": "@jupyter-widgets/controls",
          "model_name": "HTMLModel",
          "model_module_version": "1.5.0",
          "state": {
            "_dom_classes": [],
            "_model_module": "@jupyter-widgets/controls",
            "_model_module_version": "1.5.0",
            "_model_name": "HTMLModel",
            "_view_count": null,
            "_view_module": "@jupyter-widgets/controls",
            "_view_module_version": "1.5.0",
            "_view_name": "HTMLView",
            "description": "",
            "description_tooltip": null,
            "layout": "IPY_MODEL_76c1ba54ca46441b984c7ed8b76dd7a0",
            "placeholder": "​",
            "style": "IPY_MODEL_23be3f1bb5c1443a8bfd8e87bcbb550c",
            "value": " 1909/1909 [00:02&lt;00:00, 938.27 examples/s]"
          }
        },
        "61aa3dc2c60b4e93b30fb9f8791a854f": {
          "model_module": "@jupyter-widgets/base",
          "model_name": "LayoutModel",
          "model_module_version": "1.2.0",
          "state": {
            "_model_module": "@jupyter-widgets/base",
            "_model_module_version": "1.2.0",
            "_model_name": "LayoutModel",
            "_view_count": null,
            "_view_module": "@jupyter-widgets/base",
            "_view_module_version": "1.2.0",
            "_view_name": "LayoutView",
            "align_content": null,
            "align_items": null,
            "align_self": null,
            "border": null,
            "bottom": null,
            "display": null,
            "flex": null,
            "flex_flow": null,
            "grid_area": null,
            "grid_auto_columns": null,
            "grid_auto_flow": null,
            "grid_auto_rows": null,
            "grid_column": null,
            "grid_gap": null,
            "grid_row": null,
            "grid_template_areas": null,
            "grid_template_columns": null,
            "grid_template_rows": null,
            "height": null,
            "justify_content": null,
            "justify_items": null,
            "left": null,
            "margin": null,
            "max_height": null,
            "max_width": null,
            "min_height": null,
            "min_width": null,
            "object_fit": null,
            "object_position": null,
            "order": null,
            "overflow": null,
            "overflow_x": null,
            "overflow_y": null,
            "padding": null,
            "right": null,
            "top": null,
            "visibility": "hidden",
            "width": null
          }
        },
        "6cb8a5d3701a48458c51ab2816422a16": {
          "model_module": "@jupyter-widgets/base",
          "model_name": "LayoutModel",
          "model_module_version": "1.2.0",
          "state": {
            "_model_module": "@jupyter-widgets/base",
            "_model_module_version": "1.2.0",
            "_model_name": "LayoutModel",
            "_view_count": null,
            "_view_module": "@jupyter-widgets/base",
            "_view_module_version": "1.2.0",
            "_view_name": "LayoutView",
            "align_content": null,
            "align_items": null,
            "align_self": null,
            "border": null,
            "bottom": null,
            "display": null,
            "flex": null,
            "flex_flow": null,
            "grid_area": null,
            "grid_auto_columns": null,
            "grid_auto_flow": null,
            "grid_auto_rows": null,
            "grid_column": null,
            "grid_gap": null,
            "grid_row": null,
            "grid_template_areas": null,
            "grid_template_columns": null,
            "grid_template_rows": null,
            "height": null,
            "justify_content": null,
            "justify_items": null,
            "left": null,
            "margin": null,
            "max_height": null,
            "max_width": null,
            "min_height": null,
            "min_width": null,
            "object_fit": null,
            "object_position": null,
            "order": null,
            "overflow": null,
            "overflow_x": null,
            "overflow_y": null,
            "padding": null,
            "right": null,
            "top": null,
            "visibility": null,
            "width": null
          }
        },
        "db9f3ff8cd634d6eaa55bd1b06afef00": {
          "model_module": "@jupyter-widgets/controls",
          "model_name": "DescriptionStyleModel",
          "model_module_version": "1.5.0",
          "state": {
            "_model_module": "@jupyter-widgets/controls",
            "_model_module_version": "1.5.0",
            "_model_name": "DescriptionStyleModel",
            "_view_count": null,
            "_view_module": "@jupyter-widgets/base",
            "_view_module_version": "1.2.0",
            "_view_name": "StyleView",
            "description_width": ""
          }
        },
        "fabed92b1cf64727a76259e037c3b321": {
          "model_module": "@jupyter-widgets/base",
          "model_name": "LayoutModel",
          "model_module_version": "1.2.0",
          "state": {
            "_model_module": "@jupyter-widgets/base",
            "_model_module_version": "1.2.0",
            "_model_name": "LayoutModel",
            "_view_count": null,
            "_view_module": "@jupyter-widgets/base",
            "_view_module_version": "1.2.0",
            "_view_name": "LayoutView",
            "align_content": null,
            "align_items": null,
            "align_self": null,
            "border": null,
            "bottom": null,
            "display": null,
            "flex": null,
            "flex_flow": null,
            "grid_area": null,
            "grid_auto_columns": null,
            "grid_auto_flow": null,
            "grid_auto_rows": null,
            "grid_column": null,
            "grid_gap": null,
            "grid_row": null,
            "grid_template_areas": null,
            "grid_template_columns": null,
            "grid_template_rows": null,
            "height": null,
            "justify_content": null,
            "justify_items": null,
            "left": null,
            "margin": null,
            "max_height": null,
            "max_width": null,
            "min_height": null,
            "min_width": null,
            "object_fit": null,
            "object_position": null,
            "order": null,
            "overflow": null,
            "overflow_x": null,
            "overflow_y": null,
            "padding": null,
            "right": null,
            "top": null,
            "visibility": null,
            "width": null
          }
        },
        "c912078cecb44fc1ae634ab8c1a3a282": {
          "model_module": "@jupyter-widgets/controls",
          "model_name": "ProgressStyleModel",
          "model_module_version": "1.5.0",
          "state": {
            "_model_module": "@jupyter-widgets/controls",
            "_model_module_version": "1.5.0",
            "_model_name": "ProgressStyleModel",
            "_view_count": null,
            "_view_module": "@jupyter-widgets/base",
            "_view_module_version": "1.2.0",
            "_view_name": "StyleView",
            "bar_color": null,
            "description_width": ""
          }
        },
        "76c1ba54ca46441b984c7ed8b76dd7a0": {
          "model_module": "@jupyter-widgets/base",
          "model_name": "LayoutModel",
          "model_module_version": "1.2.0",
          "state": {
            "_model_module": "@jupyter-widgets/base",
            "_model_module_version": "1.2.0",
            "_model_name": "LayoutModel",
            "_view_count": null,
            "_view_module": "@jupyter-widgets/base",
            "_view_module_version": "1.2.0",
            "_view_name": "LayoutView",
            "align_content": null,
            "align_items": null,
            "align_self": null,
            "border": null,
            "bottom": null,
            "display": null,
            "flex": null,
            "flex_flow": null,
            "grid_area": null,
            "grid_auto_columns": null,
            "grid_auto_flow": null,
            "grid_auto_rows": null,
            "grid_column": null,
            "grid_gap": null,
            "grid_row": null,
            "grid_template_areas": null,
            "grid_template_columns": null,
            "grid_template_rows": null,
            "height": null,
            "justify_content": null,
            "justify_items": null,
            "left": null,
            "margin": null,
            "max_height": null,
            "max_width": null,
            "min_height": null,
            "min_width": null,
            "object_fit": null,
            "object_position": null,
            "order": null,
            "overflow": null,
            "overflow_x": null,
            "overflow_y": null,
            "padding": null,
            "right": null,
            "top": null,
            "visibility": null,
            "width": null
          }
        },
        "23be3f1bb5c1443a8bfd8e87bcbb550c": {
          "model_module": "@jupyter-widgets/controls",
          "model_name": "DescriptionStyleModel",
          "model_module_version": "1.5.0",
          "state": {
            "_model_module": "@jupyter-widgets/controls",
            "_model_module_version": "1.5.0",
            "_model_name": "DescriptionStyleModel",
            "_view_count": null,
            "_view_module": "@jupyter-widgets/base",
            "_view_module_version": "1.2.0",
            "_view_name": "StyleView",
            "description_width": ""
          }
        },
        "64b50e1e5924487d9f67e3c4f07cd946": {
          "model_module": "@jupyter-widgets/controls",
          "model_name": "HBoxModel",
          "model_module_version": "1.5.0",
          "state": {
            "_dom_classes": [],
            "_model_module": "@jupyter-widgets/controls",
            "_model_module_version": "1.5.0",
            "_model_name": "HBoxModel",
            "_view_count": null,
            "_view_module": "@jupyter-widgets/controls",
            "_view_module_version": "1.5.0",
            "_view_name": "HBoxView",
            "box_style": "",
            "children": [
              "IPY_MODEL_b9a8688bb0bb4a6a893b5682cdaeadcf",
              "IPY_MODEL_c6693f0fe3da4cb7a3b381583366e192",
              "IPY_MODEL_eb4e5f1061474b5cae5b5d33aa9e32e7"
            ],
            "layout": "IPY_MODEL_111633f40fba4939872728131249a19c"
          }
        },
        "b9a8688bb0bb4a6a893b5682cdaeadcf": {
          "model_module": "@jupyter-widgets/controls",
          "model_name": "HTMLModel",
          "model_module_version": "1.5.0",
          "state": {
            "_dom_classes": [],
            "_model_module": "@jupyter-widgets/controls",
            "_model_module_version": "1.5.0",
            "_model_name": "HTMLModel",
            "_view_count": null,
            "_view_module": "@jupyter-widgets/controls",
            "_view_module_version": "1.5.0",
            "_view_name": "HTMLView",
            "description": "",
            "description_tooltip": null,
            "layout": "IPY_MODEL_5a01865cbb23490694bedf144e73bfb0",
            "placeholder": "​",
            "style": "IPY_MODEL_ba16c7f4f80d4b1398b08696e9539ac0",
            "value": "Map: 100%"
          }
        },
        "c6693f0fe3da4cb7a3b381583366e192": {
          "model_module": "@jupyter-widgets/controls",
          "model_name": "FloatProgressModel",
          "model_module_version": "1.5.0",
          "state": {
            "_dom_classes": [],
            "_model_module": "@jupyter-widgets/controls",
            "_model_module_version": "1.5.0",
            "_model_name": "FloatProgressModel",
            "_view_count": null,
            "_view_module": "@jupyter-widgets/controls",
            "_view_module_version": "1.5.0",
            "_view_name": "ProgressView",
            "bar_style": "",
            "description": "",
            "description_tooltip": null,
            "layout": "IPY_MODEL_2e786861d03145d092fb45ade233db4b",
            "max": 637,
            "min": 0,
            "orientation": "horizontal",
            "style": "IPY_MODEL_12d16de5bd27412f8252272e38d46bde",
            "value": 637
          }
        },
        "eb4e5f1061474b5cae5b5d33aa9e32e7": {
          "model_module": "@jupyter-widgets/controls",
          "model_name": "HTMLModel",
          "model_module_version": "1.5.0",
          "state": {
            "_dom_classes": [],
            "_model_module": "@jupyter-widgets/controls",
            "_model_module_version": "1.5.0",
            "_model_name": "HTMLModel",
            "_view_count": null,
            "_view_module": "@jupyter-widgets/controls",
            "_view_module_version": "1.5.0",
            "_view_name": "HTMLView",
            "description": "",
            "description_tooltip": null,
            "layout": "IPY_MODEL_be4461bf07ae47e18fd8d91490bb0aea",
            "placeholder": "​",
            "style": "IPY_MODEL_5ec8ccc4572846e6b17482ff4976616c",
            "value": " 637/637 [00:00&lt;00:00, 840.38 examples/s]"
          }
        },
        "111633f40fba4939872728131249a19c": {
          "model_module": "@jupyter-widgets/base",
          "model_name": "LayoutModel",
          "model_module_version": "1.2.0",
          "state": {
            "_model_module": "@jupyter-widgets/base",
            "_model_module_version": "1.2.0",
            "_model_name": "LayoutModel",
            "_view_count": null,
            "_view_module": "@jupyter-widgets/base",
            "_view_module_version": "1.2.0",
            "_view_name": "LayoutView",
            "align_content": null,
            "align_items": null,
            "align_self": null,
            "border": null,
            "bottom": null,
            "display": null,
            "flex": null,
            "flex_flow": null,
            "grid_area": null,
            "grid_auto_columns": null,
            "grid_auto_flow": null,
            "grid_auto_rows": null,
            "grid_column": null,
            "grid_gap": null,
            "grid_row": null,
            "grid_template_areas": null,
            "grid_template_columns": null,
            "grid_template_rows": null,
            "height": null,
            "justify_content": null,
            "justify_items": null,
            "left": null,
            "margin": null,
            "max_height": null,
            "max_width": null,
            "min_height": null,
            "min_width": null,
            "object_fit": null,
            "object_position": null,
            "order": null,
            "overflow": null,
            "overflow_x": null,
            "overflow_y": null,
            "padding": null,
            "right": null,
            "top": null,
            "visibility": "hidden",
            "width": null
          }
        },
        "5a01865cbb23490694bedf144e73bfb0": {
          "model_module": "@jupyter-widgets/base",
          "model_name": "LayoutModel",
          "model_module_version": "1.2.0",
          "state": {
            "_model_module": "@jupyter-widgets/base",
            "_model_module_version": "1.2.0",
            "_model_name": "LayoutModel",
            "_view_count": null,
            "_view_module": "@jupyter-widgets/base",
            "_view_module_version": "1.2.0",
            "_view_name": "LayoutView",
            "align_content": null,
            "align_items": null,
            "align_self": null,
            "border": null,
            "bottom": null,
            "display": null,
            "flex": null,
            "flex_flow": null,
            "grid_area": null,
            "grid_auto_columns": null,
            "grid_auto_flow": null,
            "grid_auto_rows": null,
            "grid_column": null,
            "grid_gap": null,
            "grid_row": null,
            "grid_template_areas": null,
            "grid_template_columns": null,
            "grid_template_rows": null,
            "height": null,
            "justify_content": null,
            "justify_items": null,
            "left": null,
            "margin": null,
            "max_height": null,
            "max_width": null,
            "min_height": null,
            "min_width": null,
            "object_fit": null,
            "object_position": null,
            "order": null,
            "overflow": null,
            "overflow_x": null,
            "overflow_y": null,
            "padding": null,
            "right": null,
            "top": null,
            "visibility": null,
            "width": null
          }
        },
        "ba16c7f4f80d4b1398b08696e9539ac0": {
          "model_module": "@jupyter-widgets/controls",
          "model_name": "DescriptionStyleModel",
          "model_module_version": "1.5.0",
          "state": {
            "_model_module": "@jupyter-widgets/controls",
            "_model_module_version": "1.5.0",
            "_model_name": "DescriptionStyleModel",
            "_view_count": null,
            "_view_module": "@jupyter-widgets/base",
            "_view_module_version": "1.2.0",
            "_view_name": "StyleView",
            "description_width": ""
          }
        },
        "2e786861d03145d092fb45ade233db4b": {
          "model_module": "@jupyter-widgets/base",
          "model_name": "LayoutModel",
          "model_module_version": "1.2.0",
          "state": {
            "_model_module": "@jupyter-widgets/base",
            "_model_module_version": "1.2.0",
            "_model_name": "LayoutModel",
            "_view_count": null,
            "_view_module": "@jupyter-widgets/base",
            "_view_module_version": "1.2.0",
            "_view_name": "LayoutView",
            "align_content": null,
            "align_items": null,
            "align_self": null,
            "border": null,
            "bottom": null,
            "display": null,
            "flex": null,
            "flex_flow": null,
            "grid_area": null,
            "grid_auto_columns": null,
            "grid_auto_flow": null,
            "grid_auto_rows": null,
            "grid_column": null,
            "grid_gap": null,
            "grid_row": null,
            "grid_template_areas": null,
            "grid_template_columns": null,
            "grid_template_rows": null,
            "height": null,
            "justify_content": null,
            "justify_items": null,
            "left": null,
            "margin": null,
            "max_height": null,
            "max_width": null,
            "min_height": null,
            "min_width": null,
            "object_fit": null,
            "object_position": null,
            "order": null,
            "overflow": null,
            "overflow_x": null,
            "overflow_y": null,
            "padding": null,
            "right": null,
            "top": null,
            "visibility": null,
            "width": null
          }
        },
        "12d16de5bd27412f8252272e38d46bde": {
          "model_module": "@jupyter-widgets/controls",
          "model_name": "ProgressStyleModel",
          "model_module_version": "1.5.0",
          "state": {
            "_model_module": "@jupyter-widgets/controls",
            "_model_module_version": "1.5.0",
            "_model_name": "ProgressStyleModel",
            "_view_count": null,
            "_view_module": "@jupyter-widgets/base",
            "_view_module_version": "1.2.0",
            "_view_name": "StyleView",
            "bar_color": null,
            "description_width": ""
          }
        },
        "be4461bf07ae47e18fd8d91490bb0aea": {
          "model_module": "@jupyter-widgets/base",
          "model_name": "LayoutModel",
          "model_module_version": "1.2.0",
          "state": {
            "_model_module": "@jupyter-widgets/base",
            "_model_module_version": "1.2.0",
            "_model_name": "LayoutModel",
            "_view_count": null,
            "_view_module": "@jupyter-widgets/base",
            "_view_module_version": "1.2.0",
            "_view_name": "LayoutView",
            "align_content": null,
            "align_items": null,
            "align_self": null,
            "border": null,
            "bottom": null,
            "display": null,
            "flex": null,
            "flex_flow": null,
            "grid_area": null,
            "grid_auto_columns": null,
            "grid_auto_flow": null,
            "grid_auto_rows": null,
            "grid_column": null,
            "grid_gap": null,
            "grid_row": null,
            "grid_template_areas": null,
            "grid_template_columns": null,
            "grid_template_rows": null,
            "height": null,
            "justify_content": null,
            "justify_items": null,
            "left": null,
            "margin": null,
            "max_height": null,
            "max_width": null,
            "min_height": null,
            "min_width": null,
            "object_fit": null,
            "object_position": null,
            "order": null,
            "overflow": null,
            "overflow_x": null,
            "overflow_y": null,
            "padding": null,
            "right": null,
            "top": null,
            "visibility": null,
            "width": null
          }
        },
        "5ec8ccc4572846e6b17482ff4976616c": {
          "model_module": "@jupyter-widgets/controls",
          "model_name": "DescriptionStyleModel",
          "model_module_version": "1.5.0",
          "state": {
            "_model_module": "@jupyter-widgets/controls",
            "_model_module_version": "1.5.0",
            "_model_name": "DescriptionStyleModel",
            "_view_count": null,
            "_view_module": "@jupyter-widgets/base",
            "_view_module_version": "1.2.0",
            "_view_name": "StyleView",
            "description_width": ""
          }
        }
      }
    }
  },
  "cells": [
    {
      "cell_type": "markdown",
      "source": [
        "#Natural Language Classifier\n"
      ],
      "metadata": {
        "id": "9lhO7-i1gNDF"
      }
    },
    {
      "cell_type": "markdown",
      "source": [
        "Import and save movie plot, title and genre to a numpy array. Discarding movie data with genre marked as 'unknown' other data"
      ],
      "metadata": {
        "id": "qoqrHYhOGvqT"
      }
    },
    {
      "cell_type": "code",
      "source": [
        "from google.colab import drive\n",
        "drive.mount('/content/drive')"
      ],
      "metadata": {
        "colab": {
          "base_uri": "https://localhost:8080/"
        },
        "id": "6pOIiL7xv8il",
        "outputId": "5ea77260-f022-4b9b-edfd-ed5e67ec0bb4"
      },
      "execution_count": null,
      "outputs": [
        {
          "output_type": "stream",
          "name": "stdout",
          "text": [
            "Mounted at /content/drive\n"
          ]
        }
      ]
    },
    {
      "cell_type": "markdown",
      "source": [
        "# Q1 Dataset\n"
      ],
      "metadata": {
        "id": "IVEkpQHpJ53C"
      }
    },
    {
      "cell_type": "code",
      "execution_count": null,
      "metadata": {
        "id": "6JWZFJLEgK8V",
        "colab": {
          "base_uri": "https://localhost:8080/"
        },
        "outputId": "c3eae189-e694-4c8b-ae30-d8ec7fa1d1ac"
      },
      "outputs": [
        {
          "output_type": "stream",
          "name": "stdout",
          "text": [
            "(17349, 3)\n"
          ]
        }
      ],
      "source": [
        "import numpy as np\n",
        "import re\n",
        "\n",
        "\n",
        "# load CSV file as a list of lines\n",
        "#!wget -0\n",
        "\n",
        "with open('drive/MyDrive/wiki_movie_plots_deduped.csv', 'r') as f:\n",
        "    lines = f.readlines()\n",
        "\n",
        "# remove header line\n",
        "lines = lines[2:]\n",
        "\n",
        "# use regular expression to split each line into columns\n",
        "data = []\n",
        "for line in lines:\n",
        "    line = line.strip()\n",
        "    columns = re.split(r',(?=(?:[^\"]*\"[^\"]*\")*[^\"]*$)', line)\n",
        "    if len(columns) == 8:\n",
        "        data.append(columns)\n",
        "# filter out entries with unknown genre\n",
        "data = [line for line in data if line[5] != 'unknown']\n",
        "\n",
        "# extract Title, Plot, and Genre columns\n",
        "title = [line[1] for line in data]\n",
        "plot = [line[7] for line in data]\n",
        "genre = [line[5] for line in data]\n",
        "\n",
        "#combine entries into single numpy array\n",
        "movie_plots = np.column_stack((title, plot, genre))\n",
        "\n",
        "print(movie_plots.shape)"
      ]
    },
    {
      "cell_type": "markdown",
      "source": [
        "Random sample the corpus to reduce to 10000 entries then split into 60/20/20"
      ],
      "metadata": {
        "id": "pHNdVF8aClHG"
      }
    },
    {
      "cell_type": "markdown",
      "source": [
        "Random sampling the data to reduce the corpus size to 10000 entries and checking the labels"
      ],
      "metadata": {
        "id": "YnsfS5mEjw5o"
      }
    },
    {
      "cell_type": "code",
      "source": [
        "\n",
        "random_indices = np.random.choice(movie_plots.shape[0], 10000, replace=False)\n",
        "random_sample = movie_plots[random_indices]\n",
        "\n",
        "unique_genres, counts = np.unique(random_sample[:,2], return_counts=True)\n",
        "\n",
        "sorted_indices = np.argsort(counts)[::-1]\n",
        "\n",
        "top_genres = unique_genres[sorted_indices][:10]\n",
        "mask = np.isin(random_sample[:,2], top_genres)\n",
        "top_movies = random_sample[mask]\n",
        "\n",
        "\n",
        "# for i in range(min(10, len(sorted_indices))):\n",
        "#     print(f\"{unique_genres[sorted_indices[i]]}: {counts[sorted_indices[i]]}\")\n",
        "\n",
        "# print(top_movies.shape, top_movies)"
      ],
      "metadata": {
        "id": "Q0Oo718sG5En"
      },
      "execution_count": null,
      "outputs": []
    },
    {
      "cell_type": "markdown",
      "source": [
        "A lot of the genres a multilabel and have a a count of one, im going to only keep the top 10 single label genres to clean up my dataset to ensure a more accurate model.\n"
      ],
      "metadata": {
        "id": "wnuyn2nSubv3"
      }
    },
    {
      "cell_type": "code",
      "source": [
        "unique_genres, counts = np.unique(random_sample[:,2], return_counts=True)\n",
        "\n",
        "sorted_indices = np.argsort(counts)[::-1]\n",
        "\n",
        "top_genres = unique_genres[sorted_indices][:10]\n",
        "mask = np.isin(random_sample[:,2], top_genres)\n",
        "clean_data = random_sample[mask]\n",
        "\n",
        "\n",
        "# for i in range(min(10, len(sorted_indices))):\n",
        "#     print(f\"{unique_genres[sorted_indices[i]]}: {counts[sorted_indices[i]]}\")\n",
        "\n",
        "# print(top_movies.shape, top_genres)"
      ],
      "metadata": {
        "id": "qb2QGKo1uqdb"
      },
      "execution_count": null,
      "outputs": []
    },
    {
      "cell_type": "markdown",
      "source": [
        "Split corpus into 60/20/20 for training/validation/testing"
      ],
      "metadata": {
        "id": "shWU2AGnj7YU"
      }
    },
    {
      "cell_type": "code",
      "source": [
        "train_data, validation_data, test_data = np.split(clean_data, [int(0.6 * len(clean_data)), int(0.8 * len(clean_data))])"
      ],
      "metadata": {
        "id": "UUTMU_gIbtaB"
      },
      "execution_count": null,
      "outputs": []
    },
    {
      "cell_type": "code",
      "source": [
        "print(\"Train data shape:\", train_data.shape)\n",
        "print(\"Validation data shape:\", validation_data.shape)\n",
        "print(\"Test data shape:\", test_data.shape)"
      ],
      "metadata": {
        "colab": {
          "base_uri": "https://localhost:8080/"
        },
        "id": "QLrpzArJgXC_",
        "outputId": "26b7cb0a-dc4e-4989-e4fb-d52d5e1611db"
      },
      "execution_count": null,
      "outputs": [
        {
          "output_type": "stream",
          "name": "stdout",
          "text": [
            "Train data shape: (1867, 3)\n",
            "Validation data shape: (622, 3)\n",
            "Test data shape: (623, 3)\n"
          ]
        }
      ]
    },
    {
      "cell_type": "code",
      "source": [
        "train_genre_counts = np.unique(train_data[:,2], return_counts=True)[1]\n",
        "val_genre_counts = np.unique(validation_data[:,2], return_counts=True)[1]\n",
        "test_genre_counts = np.unique(test_data[:,2], return_counts=True)[1]\n",
        "\n",
        "# calculate the percentage of each genre in each of the three arrays\n",
        "train_genre_pct = train_genre_counts / len(train_data) * 100\n",
        "val_genre_pct = val_genre_counts / len(validation_data) * 100\n",
        "test_genre_pct = test_genre_counts / len(test_data) * 100\n",
        "\n",
        "genres = np.unique(clean_data[:, 2])\n",
        "\n",
        "# print the genre percentages for each of the three arrays\n",
        "print(\"Genre percentages in training set:\")\n",
        "for i in range(len(genres)):\n",
        "    print(\"{}: {:.2f}%\".format(genres[i], train_genre_pct[i]))\n",
        "\n",
        "print(\"Genre percentages in validation set:\")\n",
        "for i in range(len(genres)):\n",
        "    print(\"{}: {:.2f}%\".format(genres[i], val_genre_pct[i]))\n",
        "\n",
        "print(\"Genre percentages in test set:\")\n",
        "for i in range(len(genres)):\n",
        "    print(\"{}: {:.2f}%\".format(genres[i], test_genre_pct[i]))"
      ],
      "metadata": {
        "colab": {
          "base_uri": "https://localhost:8080/"
        },
        "id": "48m4mbtQO71L",
        "outputId": "c83ef5ed-a5ba-4036-a575-ab3a1b979496"
      },
      "execution_count": null,
      "outputs": [
        {
          "output_type": "stream",
          "name": "stdout",
          "text": [
            "Genre percentages in training set:\n",
            "action: 6.43%\n",
            "adventure: 3.32%\n",
            "comedy: 24.21%\n",
            "crime: 3.70%\n",
            "drama: 39.15%\n",
            "horror: 3.80%\n",
            "musical: 3.11%\n",
            "romance: 6.80%\n",
            "thriller: 4.77%\n",
            "western: 4.71%\n",
            "Genre percentages in validation set:\n",
            "action: 6.27%\n",
            "adventure: 2.73%\n",
            "comedy: 24.12%\n",
            "crime: 4.50%\n",
            "drama: 36.17%\n",
            "horror: 3.38%\n",
            "musical: 3.54%\n",
            "romance: 9.32%\n",
            "thriller: 6.11%\n",
            "western: 3.86%\n",
            "Genre percentages in test set:\n",
            "action: 6.90%\n",
            "adventure: 1.93%\n",
            "comedy: 23.92%\n",
            "crime: 5.78%\n",
            "drama: 34.67%\n",
            "horror: 5.46%\n",
            "musical: 3.69%\n",
            "romance: 6.74%\n",
            "thriller: 3.85%\n",
            "western: 7.06%\n"
          ]
        }
      ]
    },
    {
      "cell_type": "code",
      "source": [
        "import spacy\n",
        "nlp = spacy.load(\"en_core_web_sm\")\n",
        "\n",
        "from sklearn.feature_extraction.text import TfidfVectorizer"
      ],
      "metadata": {
        "id": "PepRdsCtrLyW"
      },
      "execution_count": null,
      "outputs": []
    },
    {
      "cell_type": "markdown",
      "source": [
        "Define Tokenizer"
      ],
      "metadata": {
        "id": "mmaH-swWrrlR"
      }
    },
    {
      "cell_type": "code",
      "source": [
        "def text_pipeline_spacy(text):\n",
        "    tokens = []\n",
        "    doc = nlp(text)\n",
        "    for t in doc:\n",
        "        if not t.is_stop and not t.is_punct and not t.is_space:\n",
        "            tokens.append(t.lemma_.lower())\n",
        "    return tokens"
      ],
      "metadata": {
        "id": "5iZNeC7vrAdW"
      },
      "execution_count": null,
      "outputs": []
    },
    {
      "cell_type": "markdown",
      "source": [
        "# Q2 Clustering\n"
      ],
      "metadata": {
        "id": "nRfbgfH7oD0T"
      }
    },
    {
      "cell_type": "markdown",
      "source": [
        "Step 0 - Vectorise Text and Normalise"
      ],
      "metadata": {
        "id": "cjU5g6pEoGsM"
      }
    },
    {
      "cell_type": "code",
      "source": [
        "\n",
        "vectorizer = TfidfVectorizer(tokenizer=text_pipeline_spacy)\n",
        "vector_matrix = vectorizer.fit_transform(train_data[:,1])\n"
      ],
      "metadata": {
        "id": "IPcRTPbloFjB",
        "colab": {
          "base_uri": "https://localhost:8080/"
        },
        "outputId": "47225b4b-6f1a-44e5-e8ad-b7fbe703096a"
      },
      "execution_count": null,
      "outputs": [
        {
          "output_type": "stream",
          "name": "stderr",
          "text": [
            "/usr/local/lib/python3.9/dist-packages/sklearn/feature_extraction/text.py:528: UserWarning: The parameter 'token_pattern' will not be used since 'tokenizer' is not None'\n",
            "  warnings.warn(\n"
          ]
        }
      ]
    },
    {
      "cell_type": "markdown",
      "source": [
        "Step 1: Pick k random \"centroids\""
      ],
      "metadata": {
        "id": "5DLhw8peGegK"
      }
    },
    {
      "cell_type": "code",
      "source": [
        "import random\n",
        "from scipy.sparse import csr_matrix\n",
        "\n",
        "def pick_random_centroids(text_vector,k):\n",
        "  random_centroid_indices = np.random.choice(text_vector.shape[0], k, replace=False)\n",
        "  random_centroids = csr_matrix(text_vector[random_centroid_indices])\n",
        "\n",
        "  return random_centroids"
      ],
      "metadata": {
        "id": "whkbp852GjFU"
      },
      "execution_count": null,
      "outputs": []
    },
    {
      "cell_type": "markdown",
      "source": [
        "Step 2 - Assign each vector to its closest centroid"
      ],
      "metadata": {
        "id": "tJHXaV-i0lwk"
      }
    },
    {
      "cell_type": "code",
      "source": [
        "from sklearn.metrics.pairwise import cosine_similarity\n",
        "\n",
        "\n",
        "def assign_vectors(centroids,plot_vectors):\n",
        "  assignments = {}\n",
        "\n",
        "  for vector_index, vector in enumerate(plot_vectors):\n",
        "    closest_centroid = None\n",
        "    similarity_scores = []\n",
        "    for centroid_index, centroid in enumerate(centroids):\n",
        "      similarity = cosine_similarity(vector.toarray()[0].reshape(1,-1),centroid.toarray()[0].reshape(1,-1))\n",
        "      similarity_scores.append(similarity[0,0])\n",
        "    assignments[vector_index] = np.argmax(similarity_scores)\n",
        "  return assignments\n"
      ],
      "metadata": {
        "id": "Jd1oVRrDlEQW"
      },
      "execution_count": null,
      "outputs": []
    },
    {
      "cell_type": "markdown",
      "source": [
        "Step 3 -  Recalculate the centroids based on the closest vectors"
      ],
      "metadata": {
        "id": "GBpQRezi3Q07"
      }
    },
    {
      "cell_type": "code",
      "source": [
        "from scipy.sparse import csr_matrix, vstack\n",
        "\n",
        "def recalculate_centroids(num_centroids, centroids, plot_vectors, assignments):\n",
        "  new_centroids = []\n",
        "  for i in range(num_centroids):\n",
        "    group = []\n",
        "    for vector_index, centroid_index in assignments.items():\n",
        "      if centroid_index == i:\n",
        "        group.append(plot_vectors[vector_index])\n",
        "    stacked_arrays = vstack(group)\n",
        "    new_centroids.append(csr_matrix(np.mean(stacked_arrays, axis = 0)))\n",
        "    #print(type(new_centroids))\n",
        "\n",
        "  return new_centroids\n"
      ],
      "metadata": {
        "id": "ESOXnigt3QdX"
      },
      "execution_count": null,
      "outputs": []
    },
    {
      "cell_type": "markdown",
      "source": [
        "Step 4 - Repeat steps 2 and 3 intil model converges"
      ],
      "metadata": {
        "id": "qe98f9ExHZcJ"
      }
    },
    {
      "cell_type": "code",
      "source": [
        "from collections import Counter\n",
        "\n",
        "def recalculate_centroids_until_converge(k,plot_vectors):\n",
        "  centroids = pick_random_centroids(plot_vectors, k)\n",
        "  assignments = assign_vectors(centroids,plot_vectors)\n",
        "  centroid_vector_counter = Counter(assignments.values())\n",
        "  new_centroid_vector_counter = 0\n",
        "  num_centroids = k\n",
        "  \n",
        "\n",
        "  converged = False\n",
        "\n",
        "  iterations = 0\n",
        "\n",
        "\n",
        "  while not (converged):\n",
        "    iterations += 1\n",
        "    #print(iterations)\n",
        "\n",
        "    new_centroids = recalculate_centroids(num_centroids, centroids, plot_vectors, assignments)\n",
        "    assignments = assign_vectors(new_centroids,plot_vectors)\n",
        "    new_centroid_vector_counter = Counter(assignments.values())\n",
        "\n",
        "    #print(new_centroids)\n",
        "\n",
        "    converged = (centroid_vector_counter == new_centroid_vector_counter)\n",
        "\n",
        "    centroid_vector_counter = new_centroid_vector_counter\n",
        "    centroids = new_centroids\n",
        "\n",
        "  return assignments, centroids, iterations\n",
        "\n",
        "\n",
        "assignments, converged_centroids, num_iterations = recalculate_centroids_until_converge(5,vector_matrix)\n",
        "\n",
        "\n",
        "\n",
        "\n"
      ],
      "metadata": {
        "id": "M0FitlSuzWRw"
      },
      "execution_count": null,
      "outputs": []
    },
    {
      "cell_type": "markdown",
      "source": [
        "Q2(a) - Examples of the documents assigned to each cluster."
      ],
      "metadata": {
        "id": "7uWtQk2X8GwT"
      }
    },
    {
      "cell_type": "code",
      "source": [
        "print(\"Cluster 0\")\n",
        "indices_at_cluster_0 = [k for k, v in assignments.items() if v == 0]\n",
        "example_indices_0 = random.sample(range(len(indices_at_cluster_0)), 3)\n",
        "for i in example_indices_0: print(train_data[i,1]+\"\\n\")\n",
        "print(Counter([train_data[i,2] for i in indices_at_cluster_0]))\n",
        "print()\n",
        "\n",
        "print(\"Cluster 1\")\n",
        "indices_at_cluster_1 = [k for k, v in assignments.items() if v == 1]\n",
        "example_indices_1 = random.sample(range(len(indices_at_cluster_1)), 3)\n",
        "for i in example_indices_1: print(train_data[i,1]+\"\\n\")\n",
        "print(Counter([train_data[i,2] for i in indices_at_cluster_1]))\n",
        "print()\n",
        "\n",
        "print(\"Cluster 2\")\n",
        "indices_at_cluster_2 = [k for k, v in assignments.items() if v == 2]\n",
        "example_indices_2 = random.sample(range(len(indices_at_cluster_2)), 3)\n",
        "for i in example_indices_2: print(train_data[i,1]+\"\\n\")\n",
        "print(Counter([train_data[i,2] for i in indices_at_cluster_2]))\n",
        "print()\n",
        "\n",
        "print(\"Cluster 3\")\n",
        "indices_at_cluster_3 = [k for k, v in assignments.items() if v == 3]\n",
        "example_indices_3 = random.sample(range(len(indices_at_cluster_3)), 3)\n",
        "for i in example_indices_2: print(train_data[i,1]+\"\\n\")\n",
        "print(Counter([train_data[i,2] for i in indices_at_cluster_3]))\n",
        "print()\n",
        "\n",
        "\n",
        "print(\"Cluster 4\")\n",
        "indices_at_cluster_4 = [k for k, v in assignments.items() if v == 4]\n",
        "example_indices_4 = random.sample(range(len(indices_at_cluster_4)), 3)\n",
        "for i in example_indices_4: print(train_data[i,1]+\"\\n\")\n",
        "print(Counter([train_data[i,2] for i in indices_at_cluster_4]))\n",
        "print()"
      ],
      "metadata": {
        "colab": {
          "base_uri": "https://localhost:8080/"
        },
        "id": "poSTBeys8T2X",
        "outputId": "7b84fb9d-bdf9-41ae-f4be-cfe028591926"
      },
      "execution_count": null,
      "outputs": [
        {
          "output_type": "stream",
          "name": "stdout",
          "text": [
            "Cluster 0\n",
            "\"Young Nell (Chandler) loses her job and home and her father is sent to prison. She joins the Salvation Army and tries to redeem him when he comes out of prison, bent on continuing his life of crime.\"\n",
            "\n",
            "\"Joe Davis Sr. performs in a big nightclub called Billy Rose's Diamond Horseshoe in the Paramount Hotel in Manhattan. He is visited by his son Joe Jr. who is a medical student. Joe Jr. tells his father that he wants to be in show business, much to his father's disapproval. Nevertheless, Joe Sr. gives his son a job at his club where Joe Jr. then becomes smitten with Bonnie Collins, the club's headlining act. Joe Sr. is spending too much time worrying about his son that he starts to neglect his own girlfriend Claire. Claire promises to give Bonnie a mink coat if she pretends to like and go out with Joe Jr., so that Joe Sr. will pay more attention to her. Things take a complicated turn when Bonnie actually does fall in love with Joe Jr. and they get married, again much to his father's disapproval.\"\n",
            "\n",
            "A ranger tracks down agents who steal weapons from the army and sell them to a foreign power.\n",
            "\n",
            "Counter({'drama': 142, 'comedy': 102, 'western': 26, 'thriller': 22, 'crime': 20, 'horror': 18, 'action': 18, 'musical': 14, 'adventure': 13, 'romance': 11})\n",
            "\n",
            "Cluster 1\n",
            "\"Don José, an officer of the law, is seduced by the gypsy girl Carmen, in order to facilitate her clan's smuggling endeavors. Don José becomes obsessed, turning to violent crime himself in order to keep the attention of Carmen.\"\n",
            "\n",
            "\"William Thompson (William Lundigan) is a minister from the Deep South who has recently married Mary Elizabeth (Susan Hayward), a woman from the city. William is assigned a new parish and moves with his wife to a town in Georgia's Blue Ridge Mountains, where he tends to the spiritual and emotional needs of his small flock. The poverty and isolation of the region, and the everyday problems of local people, put a strain on the couple's faith and marriage.[3]\"\n",
            "\n",
            "\"A Solomon Islands plantation owner, David Sheldon (Tom Moore) becomes ill from blackwater fever following the death of many of his fieldhands from the disease. Joan Lackland (Pauline Starke), a female soldier of fortune, arrives by schooner in the islands. Enlisting the aid of her Kanaka crew, she defends Sheldon from an attack by the natives, led by Googomy (Noble Johnson). Joan becomes David's business partner after nursing him back to health and helps protect his mortgaged property from two greedy moneylenders. In attempting to gain revenge, the moneylenders incite the natives to revolt.[3][4]\"\n",
            "\n",
            "Counter({'drama': 240, 'comedy': 116, 'romance': 86, 'action': 41, 'thriller': 17, 'horror': 15, 'musical': 11, 'western': 8, 'adventure': 5, 'crime': 3})\n",
            "\n",
            "Cluster 2\n",
            "\"Tom Martel, a judge's son, returns to town out West after finishing law school. He becomes involved in a personal feud involving a banker's daughter, Hettie Huston, who attempts to railroad poor scrubwoman Mary Shoemaker in the theft of fifty dollars from a local widow.\"\n",
            "\n",
            "\"Lala's Gun is the story of a boy from the village of Biasha in Congjiang County, where resides a branch of Miao minority. As part of the village's tradition, every boy upon reaching the age of fifteen was to receive a gun from his father as a symbol of reaching manhood. Lala, however, was raised by his grandmother after being abandoned by his father followed by his mother's death. As his 15th birthday approached, Lala departed Biasha and started a journey of searching the father he hadn't seen for years.\"\n",
            "\n",
            "The successful couple Linda Spector (Glenn Close) and Michael Spector (James Woods) have been married for ten years and desperately want to be parents. They try to conceive but are unable. They turn to an adoption agency and meet the pregnant 17-year-old Lucy (Mary Stuart Masterson). She thinks the couple can provide better for her baby than she and her boyfriend Sam (Kevin Dillon). The Spectors take care of Lucy during her pregnancy and they become close but Lucy becomes uncertain about giving up her baby.\n",
            "\n",
            "Counter({'drama': 90, 'comedy': 76, 'romance': 13, 'thriller': 10, 'musical': 8, 'action': 7, 'horror': 6, 'crime': 5, 'western': 5, 'adventure': 4})\n",
            "\n",
            "Cluster 3\n",
            "\"Tom Martel, a judge's son, returns to town out West after finishing law school. He becomes involved in a personal feud involving a banker's daughter, Hettie Huston, who attempts to railroad poor scrubwoman Mary Shoemaker in the theft of fifty dollars from a local widow.\"\n",
            "\n",
            "\"Lala's Gun is the story of a boy from the village of Biasha in Congjiang County, where resides a branch of Miao minority. As part of the village's tradition, every boy upon reaching the age of fifteen was to receive a gun from his father as a symbol of reaching manhood. Lala, however, was raised by his grandmother after being abandoned by his father followed by his mother's death. As his 15th birthday approached, Lala departed Biasha and started a journey of searching the father he hadn't seen for years.\"\n",
            "\n",
            "The successful couple Linda Spector (Glenn Close) and Michael Spector (James Woods) have been married for ten years and desperately want to be parents. They try to conceive but are unable. They turn to an adoption agency and meet the pregnant 17-year-old Lucy (Mary Stuart Masterson). She thinks the couple can provide better for her baby than she and her boyfriend Sam (Kevin Dillon). The Spectors take care of Lucy during her pregnancy and they become close but Lucy becomes uncertain about giving up her baby.\n",
            "\n",
            "Counter({'drama': 151, 'comedy': 83, 'adventure': 32, 'action': 25, 'western': 23, 'thriller': 23, 'horror': 17, 'musical': 14, 'crime': 13, 'romance': 7})\n",
            "\n",
            "Cluster 4\n",
            "\"The film is about an American accountant bombarded with cable news and the media's obsession with terrorist plots in the post 9/11 world, who receives a jolt when an unattached Islamic graduate student moves in next door.\"\n",
            "\n",
            "\"A young woman, Jerry Girard (Frances Dee) is pushed by her mother (Lucille Gleason) and family into accepting the marriage proposal of a millionaire, Mark Chandler (Alan Mowbray), who is the employer of her father (James Durkin). To do so, she has to drop the boy she really loves and promised to marry, Billy Wells (Russell Gleason), but her family is seeking to recover from their financial woes and find security. When the millionaire finds out the real situation, he releases her from her vow and gives the young couple a $5000 wedding gift. He then leaves for Europe with an old flame, Dorothy Drew (Carmel Myers).\"\n",
            "\n",
            "\"In this lurid melodrama Tod Slaughter plays a villain who murders the wealthy Sir Percival Glyde in the gold fields of Australia and assumes his identity in order to inherit his estate in England. On arriving in England he schemes to marry an heiress for her money and, with the connivance of the enigmatic Count Fosco, embarks on a killing spree of all who suspect him to be an imposter and get in the way of his plans to be the Lord the Manor.\"\n",
            "\n",
            "Counter({'drama': 108, 'comedy': 75, 'action': 29, 'crime': 28, 'western': 26, 'thriller': 17, 'horror': 15, 'musical': 11, 'romance': 10, 'adventure': 8})\n",
            "\n"
          ]
        }
      ]
    },
    {
      "cell_type": "markdown",
      "source": [
        "Q2(b) - Print the top 5 tokens from each cluster"
      ],
      "metadata": {
        "id": "1ZTj4QPkGXTJ"
      }
    },
    {
      "cell_type": "code",
      "source": [
        "dense_centroids = [centroid.toarray()[0] for centroid in converged_centroids]\n",
        "\n",
        "top_tokens = [np.argsort(centroid)[-5:] for centroid in dense_centroids]\n",
        "\n",
        "vector_to_text = np.array(vectorizer.get_feature_names_out())\n",
        "\n",
        "for i in range(len(converged_centroids)):\n",
        "   print(f\"Top 5 Tokens for Centroid {i}: {vector_to_text[top_tokens[i]]}\")"
      ],
      "metadata": {
        "colab": {
          "base_uri": "https://localhost:8080/"
        },
        "id": "DrlEp5HsHEPU",
        "outputId": "8906f05b-b222-45e8-d17f-4ef60d5a865f"
      },
      "execution_count": null,
      "outputs": [
        {
          "output_type": "stream",
          "name": "stdout",
          "text": [
            "Top 5 Tokens for Centroid 0: ['young' 'new' 'life' 'find' 'john']\n",
            "Top 5 Tokens for Centroid 1: ['fall' 'son' 'father' 'family' 'love']\n",
            "Top 5 Tokens for Centroid 2: ['man' 'irene' 'couple' 'husband' 'wife']\n",
            "Top 5 Tokens for Centroid 3: ['american' 'world' 'man' 'brother' 'war']\n",
            "Top 5 Tokens for Centroid 4: ['find' 'play' 'murder' 'gang' 'film']\n"
          ]
        }
      ]
    },
    {
      "cell_type": "markdown",
      "source": [
        "Q2(c) - Confusion matrix"
      ],
      "metadata": {
        "id": "xvA-W1_LJ4W8"
      }
    },
    {
      "cell_type": "code",
      "source": [
        "import seaborn as sn\n",
        "from sklearn.metrics import confusion_matrix, accuracy_score, precision_score, recall_score, f1_score\n",
        "\n",
        "labels_predicted = [str(value) for value in list(assignments.values())]\n",
        "\n",
        "cm = confusion_matrix(train_data[:,2], labels_predicted)\n",
        "\n",
        "colour_map = sn.color_palette(\"Greens\", as_cmap=True)\n",
        "labels = ['Action', 'Adventure', 'Comedy', 'Crime', 'Drama', 'Horror', 'Musical', 'Romance', 'Thriller', 'Western']\n",
        "plot = sn.heatmap(cm[5:,:5], \n",
        "                  annot=True, # Put the numbers in\n",
        "                  annot_kws={\"size\": 16}, # Make the numbers bigger\n",
        "                  fmt='g', # Stop scientific notation\n",
        "                  cmap = colour_map, # Choose the colour palette\n",
        "                  cbar = False, # Don't include the colour bar\n",
        "                  xticklabels=['0','1','2','3','4'], # Put in the X and Y labels\n",
        "                  yticklabels=labels)\n",
        "plot.set(xlabel='Predicted', ylabel='Actual')\n",
        "\n"
      ],
      "metadata": {
        "colab": {
          "base_uri": "https://localhost:8080/",
          "height": 297
        },
        "id": "DJw-1cVCKygG",
        "outputId": "1ac48631-99ac-4cc8-e8bf-2c916cb467e1"
      },
      "execution_count": null,
      "outputs": [
        {
          "output_type": "execute_result",
          "data": {
            "text/plain": [
              "[Text(0.5, 15.0, 'Predicted'), Text(33.0, 0.5, 'Actual')]"
            ]
          },
          "metadata": {},
          "execution_count": 18
        },
        {
          "output_type": "display_data",
          "data": {
            "text/plain": [
              "<Figure size 432x288 with 1 Axes>"
            ],
            "image/png": "[encoded data removed]"
          },
          "metadata": {
            "needs_background": "light"
          }
        }
      ]
    },
    {
      "cell_type": "markdown",
      "source": [
        "#  Q3 Comparing Classifiers\n"
      ],
      "metadata": {
        "id": "zAzkdz5yMmlS"
      }
    },
    {
      "cell_type": "markdown",
      "source": [
        "Confusion matrix function for comparing classifiers"
      ],
      "metadata": {
        "id": "RfQfzKPNUNvE"
      }
    },
    {
      "cell_type": "code",
      "source": [
        "def plotConfusionMatrix(labels_val, labels_predicted):\n",
        "  cm = confusion_matrix(labels_val, labels_predicted)\n",
        "  colour_map = sn.color_palette(\"Greens\", as_cmap=True)\n",
        "  labels = labels = ['Action', 'Adventure', 'Comedy', 'Crime', 'Drama', 'Horror', 'Musical', 'Romance', 'Thriller', 'Western']\n",
        "  plot = sn.heatmap(cm, \n",
        "                    annot=True, # Put the numbers in\n",
        "                    annot_kws={\"size\": 16}, # Make the numbers bigger\n",
        "                    fmt='g', # Stop scientific notation\n",
        "                    cmap = colour_map, # Choose the colour palette\n",
        "                    cbar = False, # Don't include the colour bar\n",
        "                    xticklabels=labels, # Put in the X and Y labels\n",
        "                    yticklabels=labels)\n",
        "  plot.set(xlabel='Predicted', ylabel='Actual')\n",
        "  return plot\n",
        "     "
      ],
      "metadata": {
        "id": "82K44__RUXQk"
      },
      "execution_count": null,
      "outputs": []
    },
    {
      "cell_type": "markdown",
      "source": [
        "Most Frequent classifier"
      ],
      "metadata": {
        "id": "nWYFoCacayxA"
      }
    },
    {
      "cell_type": "code",
      "source": [
        "from sklearn.dummy import DummyClassifier\n",
        "from sklearn.metrics import accuracy_score, precision_score, recall_score, f1_score\n",
        "from sklearn.metrics import ConfusionMatrixDisplay\n",
        "\n",
        "vectorizer = TfidfVectorizer()\n",
        "training_X = vectorizer.fit_transform(train_data[:,1])\n",
        "validate_X = vectorizer.fit_transform(validation_data[:,1])\n",
        "\n",
        "dummy_clf = DummyClassifier(strategy=\"most_frequent\")\n",
        "dummy_clf.fit(training_X, train_data[:,2])\n",
        "labels_predicted = dummy_clf.predict(validate_X)\n",
        "\n",
        "\n",
        "plotConfusionMatrix(validation_data[:,2], labels_predicted)\n",
        "\n",
        "accuracy = accuracy_score(validation_data[:,2], labels_predicted)\n",
        "print(f\"{accuracy=:.3f}\")\n",
        "\n",
        "precision = precision_score(validation_data[:,2], labels_predicted, average=\"macro\")\n",
        "print(f\"{precision=:.3f}\")\n",
        "\n",
        "recall = recall_score(validation_data[:,2], labels_predicted, average=\"macro\")\n",
        "print(f\"{recall=:.3f}\")\n",
        "\n",
        "f1 = f1_score(validation_data[:,2], labels_predicted, average=\"macro\")\n",
        "print(f\"{f1=:.3f}\")\n"
      ],
      "metadata": {
        "colab": {
          "base_uri": "https://localhost:8080/",
          "height": 449
        },
        "id": "JHKWgN_AMuOB",
        "outputId": "8db9d7da-1cb9-4445-ce15-7b198362c51a"
      },
      "execution_count": null,
      "outputs": [
        {
          "output_type": "stream",
          "name": "stdout",
          "text": [
            "accuracy=0.362\n",
            "precision=0.036\n"
          ]
        },
        {
          "output_type": "stream",
          "name": "stderr",
          "text": [
            "/usr/local/lib/python3.9/dist-packages/sklearn/metrics/_classification.py:1344: UndefinedMetricWarning: Precision is ill-defined and being set to 0.0 in labels with no predicted samples. Use `zero_division` parameter to control this behavior.\n",
            "  _warn_prf(average, modifier, msg_start, len(result))\n"
          ]
        },
        {
          "output_type": "stream",
          "name": "stdout",
          "text": [
            "recall=0.100\n",
            "f1=0.053\n"
          ]
        },
        {
          "output_type": "display_data",
          "data": {
            "text/plain": [
              "<Figure size 432x288 with 1 Axes>"
            ],
            "image/png": "[encoded data removed]"
          },
          "metadata": {
            "needs_background": "light"
          }
        }
      ]
    },
    {
      "cell_type": "markdown",
      "source": [
        "Stratified classifier"
      ],
      "metadata": {
        "id": "zd-SmC7mt0pk"
      }
    },
    {
      "cell_type": "code",
      "source": [
        "dummy_clf = DummyClassifier(strategy=\"stratified\")\n",
        "dummy_clf.fit(training_X, train_data[:,2])\n",
        "labels_predicted = dummy_clf.predict(validate_X)\n",
        "\n",
        "plotConfusionMatrix(validation_data[:,2], labels_predicted)\n",
        "\n",
        "accuracy = accuracy_score(validation_data[:,2], labels_predicted)\n",
        "print(f\"{accuracy=:.3f}\")\n",
        "\n",
        "precision = precision_score(validation_data[:,2], labels_predicted, average=\"macro\")\n",
        "print(f\"{precision=:.3f}\")\n",
        "\n",
        "recall = recall_score(validation_data[:,2], labels_predicted, average=\"macro\")\n",
        "print(f\"{recall=:.3f}\")\n",
        "\n",
        "f1 = f1_score(validation_data[:,2], labels_predicted, average=\"macro\")\n",
        "print(f\"{f1=:.3f}\")"
      ],
      "metadata": {
        "id": "h3TOsMG_t0ZR",
        "colab": {
          "base_uri": "https://localhost:8080/",
          "height": 393
        },
        "outputId": "f3921d31-1dd2-49fd-b09f-07cc6f0a6bc9"
      },
      "execution_count": null,
      "outputs": [
        {
          "output_type": "stream",
          "name": "stdout",
          "text": [
            "accuracy=0.196\n",
            "precision=0.080\n",
            "recall=0.079\n",
            "f1=0.078\n"
          ]
        },
        {
          "output_type": "display_data",
          "data": {
            "text/plain": [
              "<Figure size 432x288 with 1 Axes>"
            ],
            "image/png": "[encoded data removed]"
          },
          "metadata": {
            "needs_background": "light"
          }
        }
      ]
    },
    {
      "cell_type": "markdown",
      "source": [
        "LogisticRegression with One-hot vectorization"
      ],
      "metadata": {
        "id": "rKdn71QO7TSj"
      }
    },
    {
      "cell_type": "code",
      "source": [
        "from sklearn.feature_extraction.text import CountVectorizer\n",
        "from sklearn.linear_model import LogisticRegression\n",
        "\n",
        "vectorizer = CountVectorizer(binary = True)\n",
        "X_train = vectorizer.fit_transform(train_data[:,1])\n",
        "X_val = vectorizer.transform(validation_data[:,1])\n",
        "\n",
        "\n",
        "clf = LogisticRegression(random_state=42)\n",
        "clf.fit(X_train,train_data[:,2])\n",
        "labels_predicted = clf.predict(X_val)\n",
        "\n",
        "\n",
        "plotConfusionMatrix(validation_data[:,2], labels_predicted)\n",
        "\n",
        "accuracy = accuracy_score(validation_data[:,2], labels_predicted)\n",
        "print(f\"{accuracy=:.3f}\")\n",
        "\n",
        "precision = precision_score(validation_data[:,2], labels_predicted, average=\"macro\")\n",
        "print(f\"{precision=:.3f}\")\n",
        "\n",
        "recall = recall_score(validation_data[:,2], labels_predicted, average=\"macro\")\n",
        "print(f\"{recall=:.3f}\")\n",
        "\n",
        "f1 = f1_score(validation_data[:,2], labels_predicted, average=\"macro\")\n",
        "print(f\"{f1=:.3f}\")"
      ],
      "metadata": {
        "id": "tvwrA9iW7Tj0",
        "colab": {
          "base_uri": "https://localhost:8080/",
          "height": 593
        },
        "outputId": "6902fa29-f4a2-4c15-9b96-2eceded891a3"
      },
      "execution_count": null,
      "outputs": [
        {
          "output_type": "stream",
          "name": "stderr",
          "text": [
            "/usr/local/lib/python3.9/dist-packages/sklearn/linear_model/_logistic.py:458: ConvergenceWarning: lbfgs failed to converge (status=1):\n",
            "STOP: TOTAL NO. of ITERATIONS REACHED LIMIT.\n",
            "\n",
            "Increase the number of iterations (max_iter) or scale the data as shown in:\n",
            "    https://scikit-learn.org/stable/modules/preprocessing.html\n",
            "Please also refer to the documentation for alternative solver options:\n",
            "    https://scikit-learn.org/stable/modules/linear_model.html#logistic-regression\n",
            "  n_iter_i = _check_optimize_result(\n"
          ]
        },
        {
          "output_type": "stream",
          "name": "stdout",
          "text": [
            "accuracy=0.439\n"
          ]
        },
        {
          "output_type": "stream",
          "name": "stderr",
          "text": [
            "/usr/local/lib/python3.9/dist-packages/sklearn/metrics/_classification.py:1344: UndefinedMetricWarning: Precision is ill-defined and being set to 0.0 in labels with no predicted samples. Use `zero_division` parameter to control this behavior.\n",
            "  _warn_prf(average, modifier, msg_start, len(result))\n"
          ]
        },
        {
          "output_type": "stream",
          "name": "stdout",
          "text": [
            "precision=0.454\n",
            "recall=0.229\n",
            "f1=0.261\n"
          ]
        },
        {
          "output_type": "display_data",
          "data": {
            "text/plain": [
              "<Figure size 432x288 with 1 Axes>"
            ],
            "image/png": "[encoded data removed]"
          },
          "metadata": {
            "needs_background": "light"
          }
        }
      ]
    },
    {
      "cell_type": "markdown",
      "source": [
        "LogisticRegression with TF-IDF vectorization (default settings)"
      ],
      "metadata": {
        "id": "L-CPTjUbByut"
      }
    },
    {
      "cell_type": "code",
      "source": [
        "from sklearn.feature_extraction.text import CountVectorizer\n",
        "from sklearn.linear_model import LogisticRegression\n",
        "\n",
        "vectorizer = TfidfVectorizer()\n",
        "X_train = vectorizer.fit_transform(train_data[:,1])\n",
        "X_val = vectorizer.transform(validation_data[:,1])\n",
        "\n",
        "\n",
        "clf = LogisticRegression(random_state=42)\n",
        "clf.fit(X_train,train_data[:,2])\n",
        "labels_predicted = clf.predict(X_val)\n",
        "\n",
        "\n",
        "plotConfusionMatrix(validation_data[:,2], labels_predicted)\n",
        "\n",
        "accuracy = accuracy_score(validation_data[:,2], labels_predicted)\n",
        "print(f\"{accuracy=:.3f}\")\n",
        "\n",
        "precision = precision_score(validation_data[:,2], labels_predicted, average=\"macro\")\n",
        "print(f\"{precision=:.3f}\")\n",
        "\n",
        "recall = recall_score(validation_data[:,2], labels_predicted, average=\"macro\")\n",
        "print(f\"{recall=:.3f}\")\n",
        "\n",
        "f1 = f1_score(validation_data[:,2], labels_predicted, average=\"macro\")\n",
        "print(f\"{f1=:.3f}\")"
      ],
      "metadata": {
        "id": "jwxA1h_nB0CU",
        "colab": {
          "base_uri": "https://localhost:8080/",
          "height": 449
        },
        "outputId": "5a341e12-ace3-4255-c70b-b24992dc63a6"
      },
      "execution_count": null,
      "outputs": [
        {
          "output_type": "stream",
          "name": "stdout",
          "text": [
            "accuracy=0.410\n"
          ]
        },
        {
          "output_type": "stream",
          "name": "stderr",
          "text": [
            "/usr/local/lib/python3.9/dist-packages/sklearn/metrics/_classification.py:1344: UndefinedMetricWarning: Precision is ill-defined and being set to 0.0 in labels with no predicted samples. Use `zero_division` parameter to control this behavior.\n",
            "  _warn_prf(average, modifier, msg_start, len(result))\n"
          ]
        },
        {
          "output_type": "stream",
          "name": "stdout",
          "text": [
            "precision=0.087\n",
            "recall=0.123\n",
            "f1=0.092\n"
          ]
        },
        {
          "output_type": "display_data",
          "data": {
            "text/plain": [
              "<Figure size 432x288 with 1 Axes>"
            ],
            "image/png": "[encoded data removed]"
          },
          "metadata": {
            "needs_background": "light"
          }
        }
      ]
    },
    {
      "cell_type": "markdown",
      "source": [
        "SVC Classifier with One-hot vectorization (SVM with RBF kernel, default settings)"
      ],
      "metadata": {
        "id": "NklqfTRrFwCa"
      }
    },
    {
      "cell_type": "code",
      "source": [
        "from sklearn.svm import SVC\n",
        "from sklearn.pipeline import make_pipeline\n",
        "from sklearn.preprocessing import StandardScaler\n",
        "\n",
        "\n",
        "vectorizer = CountVectorizer(binary = True)\n",
        "X_train = vectorizer.fit_transform(train_data[:,1])\n",
        "X_val = vectorizer.transform(validation_data[:,1])\n",
        "\n",
        "clf = SVC(kernel='rbf')\n",
        "clf.fit(X_train,train_data[:,2])\n",
        "labels_predicted = clf.predict(X_val)\n",
        "\n",
        "plotConfusionMatrix(validation_data[:,2], labels_predicted)\n",
        "\n",
        "accuracy = accuracy_score(validation_data[:,2], labels_predicted)\n",
        "print(f\"{accuracy=:.3f}\")\n",
        "\n",
        "precision = precision_score(validation_data[:,2], labels_predicted, average=\"macro\")\n",
        "print(f\"{precision=:.3f}\")\n",
        "\n",
        "recall = recall_score(validation_data[:,2], labels_predicted, average=\"macro\")\n",
        "print(f\"{recall=:.3f}\")\n",
        "\n",
        "f1 = f1_score(validation_data[:,2], labels_predicted, average=\"macro\")\n",
        "print(f\"{f1=:.3f}\")"
      ],
      "metadata": {
        "id": "dwLg0nk-FtAL",
        "colab": {
          "base_uri": "https://localhost:8080/",
          "height": 449
        },
        "outputId": "a0e46f14-f7e5-424f-b869-343d185e2137"
      },
      "execution_count": null,
      "outputs": [
        {
          "output_type": "stream",
          "name": "stdout",
          "text": [
            "accuracy=0.370\n"
          ]
        },
        {
          "output_type": "stream",
          "name": "stderr",
          "text": [
            "/usr/local/lib/python3.9/dist-packages/sklearn/metrics/_classification.py:1344: UndefinedMetricWarning: Precision is ill-defined and being set to 0.0 in labels with no predicted samples. Use `zero_division` parameter to control this behavior.\n",
            "  _warn_prf(average, modifier, msg_start, len(result))\n"
          ]
        },
        {
          "output_type": "stream",
          "name": "stdout",
          "text": [
            "precision=0.087\n",
            "recall=0.104\n",
            "f1=0.064\n"
          ]
        },
        {
          "output_type": "display_data",
          "data": {
            "text/plain": [
              "<Figure size 432x288 with 1 Axes>"
            ],
            "image/png": "[encoded data removed]"
          },
          "metadata": {
            "needs_background": "light"
          }
        }
      ]
    },
    {
      "cell_type": "markdown",
      "source": [
        "3(b) - Choose your own classifier/tokenisation/normalisation approach from Scikit Learn"
      ],
      "metadata": {
        "id": "ui7Ynnj4cL-K"
      }
    },
    {
      "cell_type": "code",
      "source": [
        "from sklearn.naive_bayes import MultinomialNB\n",
        "from sklearn.ensemble import RandomForestClassifier, GradientBoostingClassifier\n",
        "from sklearn.svm import LinearSVC, NuSVC\n",
        "from sklearn.pipeline import make_pipeline\n",
        "from sklearn.preprocessing import StandardScaler\n",
        "\n",
        "\n",
        "\n",
        "vectorizer = TfidfVectorizer()\n",
        "X_train = vectorizer.fit_transform(train_data[:,1])\n",
        "X_val = vectorizer.transform(validation_data[:,1])\n",
        "\n",
        "clf = make_pipeline(LinearSVC(random_state=42, tol=1e-5, C=12))\n",
        "clf.fit(X_train,train_data[:,2])\n",
        "labels_predicted = clf.predict(X_val)\n",
        "\n",
        "plotConfusionMatrix(validation_data[:,2], labels_predicted)\n",
        "\n",
        "accuracy = accuracy_score(validation_data[:,2], labels_predicted)\n",
        "print(f\"{accuracy=:.3f}\")\n",
        "\n",
        "precision = precision_score(validation_data[:,2], labels_predicted, average=\"macro\")\n",
        "print(f\"{precision=:.3f}\")\n",
        "\n",
        "recall = recall_score(validation_data[:,2], labels_predicted, average=\"macro\")\n",
        "print(f\"{recall=:.3f}\")\n",
        "\n",
        "f1 = f1_score(validation_data[:,2], labels_predicted, average=\"macro\")\n",
        "print(f\"{f1=:.3f}\")"
      ],
      "metadata": {
        "colab": {
          "base_uri": "https://localhost:8080/",
          "height": 393
        },
        "id": "36PwUvPAsU7I",
        "outputId": "a3dcb735-50dd-49a0-a310-a74620d9c55d"
      },
      "execution_count": null,
      "outputs": [
        {
          "output_type": "stream",
          "name": "stdout",
          "text": [
            "accuracy=0.492\n",
            "precision=0.551\n",
            "recall=0.329\n",
            "f1=0.382\n"
          ]
        },
        {
          "output_type": "display_data",
          "data": {
            "text/plain": [
              "<Figure size 432x288 with 1 Axes>"
            ],
            "image/png": "[encoded data removed]"
          },
          "metadata": {
            "needs_background": "light"
          }
        }
      ]
    },
    {
      "cell_type": "markdown",
      "source": [
        "#Q4 Parameter Tuning\n"
      ],
      "metadata": {
        "id": "z81PwtovJmu9"
      }
    },
    {
      "cell_type": "markdown",
      "source": [
        " improve the effectiveness of the LogisticRegression with TF-IDF vectorisation"
      ],
      "metadata": {
        "id": "Uvf-57J_jUvf"
      }
    },
    {
      "cell_type": "code",
      "source": [
        "vectorizer = TfidfVectorizer(max_features=8000,ngram_range=(1,1),sublinear_tf=True)\n",
        "X_train = vectorizer.fit_transform(train_data[:,1])\n",
        "X_val = vectorizer.transform(validation_data[:,1])\n",
        "\n",
        "\n",
        "clf = LogisticRegression(random_state=42,C=2000,max_iter = 1000,)\n",
        "clf.fit(X_train,train_data[:,2])\n",
        "labels_predicted = clf.predict(X_val)\n",
        "\n",
        "\n",
        "plotConfusionMatrix(validation_data[:,2], labels_predicted)\n",
        "\n",
        "accuracy = accuracy_score(validation_data[:,2], labels_predicted)\n",
        "print(f\"{accuracy=:.3f}\")\n",
        "\n",
        "precision = precision_score(validation_data[:,2], labels_predicted, average=\"macro\")\n",
        "print(f\"{precision=:.3f}\")\n",
        "\n",
        "recall = recall_score(validation_data[:,2], labels_predicted, average=\"macro\")\n",
        "print(f\"{recall=:.3f}\")\n",
        "\n",
        "f1 = f1_score(validation_data[:,2], labels_predicted, average=\"macro\")\n",
        "print(f\"{f1=:.3f}\")"
      ],
      "metadata": {
        "id": "c-J4c7HvJvTq",
        "colab": {
          "base_uri": "https://localhost:8080/",
          "height": 393
        },
        "outputId": "18e7f0c1-6baa-49ae-b93b-9608962968f8"
      },
      "execution_count": null,
      "outputs": [
        {
          "output_type": "stream",
          "name": "stdout",
          "text": [
            "accuracy=0.461\n",
            "precision=0.600\n",
            "recall=0.287\n",
            "f1=0.341\n"
          ]
        },
        {
          "output_type": "display_data",
          "data": {
            "text/plain": [
              "<Figure size 432x288 with 1 Axes>"
            ],
            "image/png": "[encoded data removed]"
          },
          "metadata": {
            "needs_background": "light"
          }
        }
      ]
    },
    {
      "cell_type": "markdown",
      "source": [
        "# Q5 - Context vectors using BERT"
      ],
      "metadata": {
        "id": "5gS0ar1ipnjM"
      }
    },
    {
      "cell_type": "code",
      "source": [
        "!pip install transformers datasets"
      ],
      "metadata": {
        "colab": {
          "base_uri": "https://localhost:8080/"
        },
        "id": "S4YKoKO-psAR",
        "outputId": "8736c17a-b545-4004-8dc6-61bc695655aa"
      },
      "execution_count": null,
      "outputs": [
        {
          "output_type": "stream",
          "name": "stdout",
          "text": [
            "Looking in indexes: https://pypi.org/simple, https://us-python.pkg.dev/colab-wheels/public/simple/\n",
            "Collecting transformers\n",
            "  Downloading transformers-4.27.1-py3-none-any.whl (6.7 MB)\n",
            "\u001b[2K     \u001b[90m━━━━━━━━━━━━━━━━━━━━━━━━━━━━━━━━━━━━━━━━\u001b[0m \u001b[32m6.7/6.7 MB\u001b[0m \u001b[31m32.4 MB/s\u001b[0m eta \u001b[36m0:00:00\u001b[0m\n",
            "\u001b[?25hCollecting datasets\n",
            "  Downloading datasets-2.10.1-py3-none-any.whl (469 kB)\n",
            "\u001b[2K     \u001b[90m━━━━━━━━━━━━━━━━━━━━━━━━━━━━━━━━━━━━━━\u001b[0m \u001b[32m469.0/469.0 KB\u001b[0m \u001b[31m18.3 MB/s\u001b[0m eta \u001b[36m0:00:00\u001b[0m\n",
            "\u001b[?25hRequirement already satisfied: filelock in /usr/local/lib/python3.9/dist-packages (from transformers) (3.9.0)\n",
            "Requirement already satisfied: regex!=2019.12.17 in /usr/local/lib/python3.9/dist-packages (from transformers) (2022.6.2)\n",
            "Requirement already satisfied: pyyaml>=5.1 in /usr/local/lib/python3.9/dist-packages (from transformers) (6.0)\n",
            "Requirement already satisfied: numpy>=1.17 in /usr/local/lib/python3.9/dist-packages (from transformers) (1.22.4)\n",
            "Collecting huggingface-hub<1.0,>=0.11.0\n",
            "  Downloading huggingface_hub-0.13.2-py3-none-any.whl (199 kB)\n",
            "\u001b[2K     \u001b[90m━━━━━━━━━━━━━━━━━━━━━━━━━━━━━━━━━━━━━━\u001b[0m \u001b[32m199.2/199.2 KB\u001b[0m \u001b[31m11.2 MB/s\u001b[0m eta \u001b[36m0:00:00\u001b[0m\n",
            "\u001b[?25hRequirement already satisfied: tqdm>=4.27 in /usr/local/lib/python3.9/dist-packages (from transformers) (4.65.0)\n",
            "Requirement already satisfied: packaging>=20.0 in /usr/local/lib/python3.9/dist-packages (from transformers) (23.0)\n",
            "Requirement already satisfied: requests in /usr/local/lib/python3.9/dist-packages (from transformers) (2.25.1)\n",
            "Collecting tokenizers!=0.11.3,<0.14,>=0.11.1\n",
            "  Downloading tokenizers-0.13.2-cp39-cp39-manylinux_2_17_x86_64.manylinux2014_x86_64.whl (7.6 MB)\n",
            "\u001b[2K     \u001b[90m━━━━━━━━━━━━━━━━━━━━━━━━━━━━━━━━━━━━━━━━\u001b[0m \u001b[32m7.6/7.6 MB\u001b[0m \u001b[31m29.1 MB/s\u001b[0m eta \u001b[36m0:00:00\u001b[0m\n",
            "\u001b[?25hCollecting xxhash\n",
            "  Downloading xxhash-3.2.0-cp39-cp39-manylinux_2_17_x86_64.manylinux2014_x86_64.whl (212 kB)\n",
            "\u001b[2K     \u001b[90m━━━━━━━━━━━━━━━━━━━━━━━━━━━━━━━━━━━━━━━\u001b[0m \u001b[32m212.2/212.2 KB\u001b[0m \u001b[31m3.3 MB/s\u001b[0m eta \u001b[36m0:00:00\u001b[0m\n",
            "\u001b[?25hCollecting multiprocess\n",
            "  Downloading multiprocess-0.70.14-py39-none-any.whl (132 kB)\n",
            "\u001b[2K     \u001b[90m━━━━━━━━━━━━━━━━━━━━━━━━━━━━━━━━━━━━━━━\u001b[0m \u001b[32m132.9/132.9 KB\u001b[0m \u001b[31m4.5 MB/s\u001b[0m eta \u001b[36m0:00:00\u001b[0m\n",
            "\u001b[?25hRequirement already satisfied: fsspec[http]>=2021.11.1 in /usr/local/lib/python3.9/dist-packages (from datasets) (2023.3.0)\n",
            "Requirement already satisfied: pandas in /usr/local/lib/python3.9/dist-packages (from datasets) (1.4.4)\n",
            "Collecting aiohttp\n",
            "  Downloading aiohttp-3.8.4-cp39-cp39-manylinux_2_17_x86_64.manylinux2014_x86_64.whl (1.0 MB)\n",
            "\u001b[2K     \u001b[90m━━━━━━━━━━━━━━━━━━━━━━━━━━━━━━━━━━━━━━━━\u001b[0m \u001b[32m1.0/1.0 MB\u001b[0m \u001b[31m5.3 MB/s\u001b[0m eta \u001b[36m0:00:00\u001b[0m\n",
            "\u001b[?25hCollecting responses<0.19\n",
            "  Downloading responses-0.18.0-py3-none-any.whl (38 kB)\n",
            "Requirement already satisfied: pyarrow>=6.0.0 in /usr/local/lib/python3.9/dist-packages (from datasets) (9.0.0)\n",
            "Collecting dill<0.3.7,>=0.3.0\n",
            "  Downloading dill-0.3.6-py3-none-any.whl (110 kB)\n",
            "\u001b[2K     \u001b[90m━━━━━━━━━━━━━━━━━━━━━━━━━━━━━━━━━━━━━━━\u001b[0m \u001b[32m110.5/110.5 KB\u001b[0m \u001b[31m2.0 MB/s\u001b[0m eta \u001b[36m0:00:00\u001b[0m\n",
            "\u001b[?25hCollecting frozenlist>=1.1.1\n",
            "  Downloading frozenlist-1.3.3-cp39-cp39-manylinux_2_5_x86_64.manylinux1_x86_64.manylinux_2_17_x86_64.manylinux2014_x86_64.whl (158 kB)\n",
            "\u001b[2K     \u001b[90m━━━━━━━━━━━━━━━━━━━━━━━━━━━━━━━━━━━━━━\u001b[0m \u001b[32m158.8/158.8 KB\u001b[0m \u001b[31m11.5 MB/s\u001b[0m eta \u001b[36m0:00:00\u001b[0m\n",
            "\u001b[?25hCollecting async-timeout<5.0,>=4.0.0a3\n",
            "  Downloading async_timeout-4.0.2-py3-none-any.whl (5.8 kB)\n",
            "Collecting yarl<2.0,>=1.0\n",
            "  Downloading yarl-1.8.2-cp39-cp39-manylinux_2_17_x86_64.manylinux2014_x86_64.whl (264 kB)\n",
            "\u001b[2K     \u001b[90m━━━━━━━━━━━━━━━━━━━━━━━━━━━━━━━━━━━━━━━\u001b[0m \u001b[32m264.6/264.6 KB\u001b[0m \u001b[31m7.4 MB/s\u001b[0m eta \u001b[36m0:00:00\u001b[0m\n",
            "\u001b[?25hCollecting aiosignal>=1.1.2\n",
            "  Downloading aiosignal-1.3.1-py3-none-any.whl (7.6 kB)\n",
            "Requirement already satisfied: attrs>=17.3.0 in /usr/local/lib/python3.9/dist-packages (from aiohttp->datasets) (22.2.0)\n",
            "Collecting multidict<7.0,>=4.5\n",
            "  Downloading multidict-6.0.4-cp39-cp39-manylinux_2_17_x86_64.manylinux2014_x86_64.whl (114 kB)\n",
            "\u001b[2K     \u001b[90m━━━━━━━━━━━━━━━━━━━━━━━━━━━━━━━━━━━━━━━\u001b[0m \u001b[32m114.2/114.2 KB\u001b[0m \u001b[31m3.1 MB/s\u001b[0m eta \u001b[36m0:00:00\u001b[0m\n",
            "\u001b[?25hCollecting charset-normalizer<4.0,>=2.0\n",
            "  Downloading charset_normalizer-3.1.0-cp39-cp39-manylinux_2_17_x86_64.manylinux2014_x86_64.whl (199 kB)\n",
            "\u001b[2K     \u001b[90m━━━━━━━━━━━━━━━━━━━━━━━━━━━━━━━━━━━━━━━\u001b[0m \u001b[32m199.2/199.2 KB\u001b[0m \u001b[31m3.4 MB/s\u001b[0m eta \u001b[36m0:00:00\u001b[0m\n",
            "\u001b[?25hRequirement already satisfied: typing-extensions>=3.7.4.3 in /usr/local/lib/python3.9/dist-packages (from huggingface-hub<1.0,>=0.11.0->transformers) (4.5.0)\n",
            "Requirement already satisfied: certifi>=2017.4.17 in /usr/local/lib/python3.9/dist-packages (from requests->transformers) (2022.12.7)\n",
            "Requirement already satisfied: idna<3,>=2.5 in /usr/local/lib/python3.9/dist-packages (from requests->transformers) (2.10)\n",
            "Requirement already satisfied: chardet<5,>=3.0.2 in /usr/local/lib/python3.9/dist-packages (from requests->transformers) (4.0.0)\n",
            "Requirement already satisfied: urllib3<1.27,>=1.21.1 in /usr/local/lib/python3.9/dist-packages (from requests->transformers) (1.26.15)\n",
            "Requirement already satisfied: python-dateutil>=2.8.1 in /usr/local/lib/python3.9/dist-packages (from pandas->datasets) (2.8.2)\n",
            "Requirement already satisfied: pytz>=2020.1 in /usr/local/lib/python3.9/dist-packages (from pandas->datasets) (2022.7.1)\n",
            "Requirement already satisfied: six>=1.5 in /usr/local/lib/python3.9/dist-packages (from python-dateutil>=2.8.1->pandas->datasets) (1.15.0)\n",
            "Installing collected packages: tokenizers, xxhash, multidict, frozenlist, dill, charset-normalizer, async-timeout, yarl, responses, multiprocess, huggingface-hub, aiosignal, transformers, aiohttp, datasets\n",
            "Successfully installed aiohttp-3.8.4 aiosignal-1.3.1 async-timeout-4.0.2 charset-normalizer-3.1.0 datasets-2.10.1 dill-0.3.6 frozenlist-1.3.3 huggingface-hub-0.13.2 multidict-6.0.4 multiprocess-0.70.14 responses-0.18.0 tokenizers-0.13.2 transformers-4.27.1 xxhash-3.2.0 yarl-1.8.2\n"
          ]
        }
      ]
    },
    {
      "cell_type": "code",
      "source": [
        "from transformers import pipeline\n",
        "\n",
        "model = pipeline('feature-extraction', model=\"roberta-base\")\n",
        "     "
      ],
      "metadata": {
        "colab": {
          "base_uri": "https://localhost:8080/",
          "height": 251,
          "referenced_widgets": [
            "390f6d816ac3487d906c1a0fc313966e",
            "3979f7a2928040c48677c7f95464bdad",
            "bfef95befc7d451cabb21041d2dc3160",
            "980c912f390b451b9b9ba0a10b9a92bc",
            "9e7ad3de00574bf5a5dbbfc09cb850fe",
            "16362123d31b4cfab4abd04d37753057",
            "24f0b9e8d8dc4c159765ab9d63557880",
            "f55ad7c8d05a45f2b6ef05957400341d",
            "95385afc94484ce39118b60b013385a8",
            "de3013fd928f4656b29c9e7caf7cd33e",
            "5b5190cfa71e40b1adc1c42d7f346338",
            "726e9bc1e76b40b39071435c7987b745",
            "d51cd3839d07492ebac32d5f1a37bee6",
            "9f6d247c432c478fb53d05e44185ae40",
            "67c692e313504ea6b8bd482c66467636",
            "b041abdfbd474672b1f8092cb3f6b28b",
            "ef2b02000b7b442fa60d9ed80774894d",
            "1e0f7cc287064df3bfef4d0a7fe0f52c",
            "7ed35ef5766f4f8dbf37cc5ddb8462cc",
            "2fae50cb5e4340a29fb76f0e679f638f",
            "0c087ec4b75042f2aa2c1c0ee31976e2",
            "70054c58388c44d4ac56702e78d38379",
            "c726e2519f3c4b8b9bd7742df3c6c5ec",
            "60bdbd028a9a4cb29d8edfbdd5589f06",
            "a1fe4fd903a74337978ad7ab05f66b58",
            "77aa611be74c4fab99d492b3a946b3c8",
            "ea77b3ae39ef4387a532fdea2df68f9c",
            "a2d9e2a87fa54783bec801ea6f4ad707",
            "4b73b6838aef4c49bebc47a604a4178b",
            "2e5ad19163664992ba39236c6bad94a2",
            "b48700b2cf904faeaafc1150de411ed2",
            "fcf44e1fdc0d48a4848c6b970cbfc00b",
            "0f594c1520f249e8ad4d1305531d583d",
            "d03977b9817f4d2ca962dbaa35352acd",
            "9f1b115c5db9402490e83cd344c05e93",
            "5234e68c8ba84dd1819be224caa2ad96",
            "350d7461d32f4a03a8dfcfe6bab50970",
            "6e38ce798f444e7b96ae055b292ba9d2",
            "3c2733a7eea84c089f392d693acfb700",
            "e3ec9581fb5c49dd8366e1d7014441b7",
            "a5c20c99b65f4a7dad056ac6dadbc9ef",
            "e92d37134c3c4fe68cd4dd10c6dae528",
            "54f9fa1643f2479797f33c6b01926586",
            "f1e012754e0d46afb7212e2684a8fb26",
            "d5d6286233774749bd08bd9a2a1a468d",
            "d7daaeea88f74e0c81f2323bde1e44f1",
            "6ebde08b2a5440ef8cf8867d05c920b1",
            "d2deb22eeac54223831d679463dbdb38",
            "848eac59cbdd42d88bec38aef0166c15",
            "eb97336c74d5437fbbf1f63ed36418ab",
            "59788a9448db4f9a93693772445019de",
            "ec79faab17a749af9603bd296419dc1f",
            "1969cb06ef4a4fefb834cdb45c853d45",
            "1ab702e718cd40538ea80bd9e6df301c",
            "7fb6ffee4fc547dc8f43125ca54b9b41"
          ]
        },
        "id": "QV2ZhJNkqpQn",
        "outputId": "aca40c3d-55f1-49b2-8161-bf84b5e4eee4"
      },
      "execution_count": null,
      "outputs": [
        {
          "output_type": "display_data",
          "data": {
            "text/plain": [
              "Downloading (…)lve/main/config.json:   0%|          | 0.00/481 [00:00<?, ?B/s]"
            ],
            "application/vnd.jupyter.widget-view+json": {
              "version_major": 2,
              "version_minor": 0,
              "model_id": "390f6d816ac3487d906c1a0fc313966e"
            }
          },
          "metadata": {}
        },
        {
          "output_type": "display_data",
          "data": {
            "text/plain": [
              "Downloading pytorch_model.bin:   0%|          | 0.00/501M [00:00<?, ?B/s]"
            ],
            "application/vnd.jupyter.widget-view+json": {
              "version_major": 2,
              "version_minor": 0,
              "model_id": "726e9bc1e76b40b39071435c7987b745"
            }
          },
          "metadata": {}
        },
        {
          "output_type": "stream",
          "name": "stderr",
          "text": [
            "Some weights of the model checkpoint at roberta-base were not used when initializing RobertaModel: ['lm_head.decoder.weight', 'lm_head.layer_norm.bias', 'lm_head.layer_norm.weight', 'lm_head.dense.bias', 'lm_head.dense.weight', 'lm_head.bias']\n",
            "- This IS expected if you are initializing RobertaModel from the checkpoint of a model trained on another task or with another architecture (e.g. initializing a BertForSequenceClassification model from a BertForPreTraining model).\n",
            "- This IS NOT expected if you are initializing RobertaModel from the checkpoint of a model that you expect to be exactly identical (initializing a BertForSequenceClassification model from a BertForSequenceClassification model).\n"
          ]
        },
        {
          "output_type": "display_data",
          "data": {
            "text/plain": [
              "Downloading (…)olve/main/vocab.json:   0%|          | 0.00/899k [00:00<?, ?B/s]"
            ],
            "application/vnd.jupyter.widget-view+json": {
              "version_major": 2,
              "version_minor": 0,
              "model_id": "c726e2519f3c4b8b9bd7742df3c6c5ec"
            }
          },
          "metadata": {}
        },
        {
          "output_type": "display_data",
          "data": {
            "text/plain": [
              "Downloading (…)olve/main/merges.txt:   0%|          | 0.00/456k [00:00<?, ?B/s]"
            ],
            "application/vnd.jupyter.widget-view+json": {
              "version_major": 2,
              "version_minor": 0,
              "model_id": "d03977b9817f4d2ca962dbaa35352acd"
            }
          },
          "metadata": {}
        },
        {
          "output_type": "display_data",
          "data": {
            "text/plain": [
              "Downloading (…)/main/tokenizer.json:   0%|          | 0.00/1.36M [00:00<?, ?B/s]"
            ],
            "application/vnd.jupyter.widget-view+json": {
              "version_major": 2,
              "version_minor": 0,
              "model_id": "d5d6286233774749bd08bd9a2a1a468d"
            }
          },
          "metadata": {}
        }
      ]
    },
    {
      "cell_type": "code",
      "source": [
        "from sklearn.metrics import confusion_matrix, accuracy_score, precision_score, recall_score, f1_score\n",
        "import torch"
      ],
      "metadata": {
        "id": "zbFbdQlRFAE7"
      },
      "execution_count": null,
      "outputs": []
    },
    {
      "cell_type": "code",
      "source": [
        "import torch\n",
        "\n",
        "first_vector_training = torch.stack([model(text,return_tensors='pt', max_length=512, truncation=True)[0,0,:] for text in train_data[:,1]]).detach().numpy()\n",
        "first_vector_validation = torch.stack([model(text,return_tensors='pt', max_length=512, truncation=True)[0,0,:] for text in validation_data[:,1]]).detach().numpy()\n",
        "\n",
        "\n",
        "# train Logistic Regression classifier on training data\n",
        "clf = LogisticRegression(random_state=42)\n",
        "clf.fit(first_vector_training, train_data[:,2])\n",
        "\n",
        "# make predictions on validation data\n",
        "labels_predicted = clf.predict(first_vector_validation)\n",
        "\n",
        "plotConfusionMatrix(validation_data[:,2], labels_predicted)\n",
        "\n",
        "accuracy = accuracy_score(validation_data[:,2], labels_predicted)\n",
        "print(f\"{accuracy=:.3f}\")\n",
        "\n",
        "precision = precision_score(validation_data[:,2], labels_predicted, average=\"macro\")\n",
        "print(f\"{precision=:.3f}\")\n",
        "\n",
        "recall = recall_score(validation_data[:,2], labels_predicted, average=\"macro\")\n",
        "print(f\"{recall=:.3f}\")\n",
        "\n",
        "f1 = f1_score(validation_data[:,2], labels_predicted, average=\"macro\")\n",
        "print(f\"{f1=:.3f}\")"
      ],
      "metadata": {
        "id": "ieL6C_w-sIBE"
      },
      "execution_count": null,
      "outputs": []
    },
    {
      "cell_type": "markdown",
      "source": [
        "5(b) "
      ],
      "metadata": {
        "id": "9ykCSODRG7mH"
      }
    },
    {
      "cell_type": "code",
      "source": [
        "from transformers import AutoModel, AutoTokenizer, AutoModelForSequenceClassification\n",
        "from datasets import Dataset\n",
        "\n",
        "genre_to_id = {'drama': 0, 'comedy': 1, 'romance': 2, 'action': 3, 'western': 4, 'thriller': 5, 'crime': 6, 'horror': 7, 'adventure': 8, 'musical': 9}\n",
        "id_to_genre = {0: 'drama', 1: 'comedy', 2: 'romance', 3: 'action', 4: 'western', 5: 'thriller', 6: 'crime', 7: 'horror', 8: 'adventure', 9: 'musical'}\n",
        "\n",
        "\n",
        "train_data_dict = {'label':[genre_to_id[label] for label in train_data[:,2]], 'text':train_data[:,1]}\n",
        "validation_data_dict = {'label':[genre_to_id[label] for label in validation_data[:,2]], 'text':validation_data[:,1]}\n",
        "test_data_dict = {'label':[genre_to_id[label] for label in test_data[:,2]], 'text':test_data[:,1]}\n",
        "\n",
        "train_dataset = Dataset.from_dict(train_data_dict)\n",
        "validation_dataset = Dataset.from_dict(validation_data_dict)\n",
        "test_dataset = Dataset.from_dict(test_data_dict)\n",
        "\n",
        "tokenizer = AutoTokenizer.from_pretrained(\"roberta-base\")\n",
        "model = AutoModelForSequenceClassification.from_pretrained('roberta-base', num_labels=10, id2label=id_to_genre, label2id=genre_to_id)\n",
        "\n"
      ],
      "metadata": {
        "colab": {
          "base_uri": "https://localhost:8080/"
        },
        "id": "kbvsX63CG7Sx",
        "outputId": "dbc081e1-26af-4d6c-d9f3-e7875f7d3720"
      },
      "execution_count": null,
      "outputs": [
        {
          "output_type": "stream",
          "name": "stderr",
          "text": [
            "Some weights of the model checkpoint at roberta-base were not used when initializing RobertaForSequenceClassification: ['roberta.pooler.dense.weight', 'lm_head.decoder.weight', 'roberta.pooler.dense.bias', 'lm_head.layer_norm.bias', 'lm_head.layer_norm.weight', 'lm_head.dense.bias', 'lm_head.dense.weight', 'lm_head.bias']\n",
            "- This IS expected if you are initializing RobertaForSequenceClassification from the checkpoint of a model trained on another task or with another architecture (e.g. initializing a BertForSequenceClassification model from a BertForPreTraining model).\n",
            "- This IS NOT expected if you are initializing RobertaForSequenceClassification from the checkpoint of a model that you expect to be exactly identical (initializing a BertForSequenceClassification model from a BertForSequenceClassification model).\n",
            "Some weights of RobertaForSequenceClassification were not initialized from the model checkpoint at roberta-base and are newly initialized: ['classifier.dense.weight', 'classifier.out_proj.weight', 'classifier.out_proj.bias', 'classifier.dense.bias']\n",
            "You should probably TRAIN this model on a down-stream task to be able to use it for predictions and inference.\n"
          ]
        }
      ]
    },
    {
      "cell_type": "code",
      "source": [
        "def preprocess_function(examples):\n",
        "    return tokenizer(examples[\"text\"], max_length=100, padding=True, truncation=True)\n",
        "\n",
        "tokenized_train_dataset = train_dataset.map(preprocess_function, batched=True)\n",
        "tokenized_validation_dataset = validation_dataset.map(preprocess_function, batched=True)\n",
        "\n",
        "tokenized_train_dataset.set_format(type='torch', columns=['input_ids','label','attention_mask'])\n",
        "tokenized_validation_dataset.set_format(type='torch', columns=['input_ids','label','attention_mask'])"
      ],
      "metadata": {
        "colab": {
          "base_uri": "https://localhost:8080/",
          "height": 17,
          "referenced_widgets": [
            "1b6a5c5aa14f476dae0edc71ba05059b",
            "7de00529ae074937b95c5121536b9dce",
            "4d54bdb68cb44caeb85939cc4fe416ec",
            "6dcc07997e3b460d9cc3fa9360929a91",
            "61aa3dc2c60b4e93b30fb9f8791a854f",
            "6cb8a5d3701a48458c51ab2816422a16",
            "db9f3ff8cd634d6eaa55bd1b06afef00",
            "fabed92b1cf64727a76259e037c3b321",
            "c912078cecb44fc1ae634ab8c1a3a282",
            "76c1ba54ca46441b984c7ed8b76dd7a0",
            "23be3f1bb5c1443a8bfd8e87bcbb550c",
            "64b50e1e5924487d9f67e3c4f07cd946",
            "b9a8688bb0bb4a6a893b5682cdaeadcf",
            "c6693f0fe3da4cb7a3b381583366e192",
            "eb4e5f1061474b5cae5b5d33aa9e32e7",
            "111633f40fba4939872728131249a19c",
            "5a01865cbb23490694bedf144e73bfb0",
            "ba16c7f4f80d4b1398b08696e9539ac0",
            "2e786861d03145d092fb45ade233db4b",
            "12d16de5bd27412f8252272e38d46bde",
            "be4461bf07ae47e18fd8d91490bb0aea",
            "5ec8ccc4572846e6b17482ff4976616c"
          ]
        },
        "id": "tyWEnBa_TsNj",
        "outputId": "fb9cbe35-7267-4d61-c74c-567c91b654e6"
      },
      "execution_count": null,
      "outputs": [
        {
          "output_type": "display_data",
          "data": {
            "text/plain": [
              "Map:   0%|          | 0/1909 [00:00<?, ? examples/s]"
            ],
            "application/vnd.jupyter.widget-view+json": {
              "version_major": 2,
              "version_minor": 0,
              "model_id": "1b6a5c5aa14f476dae0edc71ba05059b"
            }
          },
          "metadata": {}
        },
        {
          "output_type": "display_data",
          "data": {
            "text/plain": [
              "Map:   0%|          | 0/637 [00:00<?, ? examples/s]"
            ],
            "application/vnd.jupyter.widget-view+json": {
              "version_major": 2,
              "version_minor": 0,
              "model_id": "64b50e1e5924487d9f67e3c4f07cd946"
            }
          },
          "metadata": {}
        }
      ]
    },
    {
      "cell_type": "code",
      "source": [
        "from transformers import TrainingArguments, Trainer\n",
        "from transformers import DataCollatorWithPadding\n",
        "\n",
        "data_collator = DataCollatorWithPadding(tokenizer=tokenizer)\n",
        "\n",
        "training_args = TrainingArguments(\n",
        "    output_dir=\"language_prediction\",\n",
        "    evaluation_strategy=\"epoch\",\n",
        "    learning_rate=1e-4,\n",
        "    per_device_train_batch_size=8,\n",
        "    per_device_eval_batch_size=8,\n",
        "    num_train_epochs=1,\n",
        "    weight_decay=0,\n",
        "    remove_unused_columns=False\n",
        ")\n",
        "\n",
        "trainer = Trainer(\n",
        "    model=model,\n",
        "    args=training_args,\n",
        "    train_dataset=tokenized_train_dataset,\n",
        "    eval_dataset=tokenized_validation_dataset,\n",
        "    tokenizer=tokenizer,\n",
        "    data_collator=data_collator, \n",
        ")"
      ],
      "metadata": {
        "id": "D7OA5Tu6V_5a"
      },
      "execution_count": null,
      "outputs": []
    },
    {
      "cell_type": "code",
      "source": [
        "trainer.train()"
      ],
      "metadata": {
        "colab": {
          "base_uri": "https://localhost:8080/",
          "height": 142
        },
        "id": "h2EW58yvvOgo",
        "outputId": "15f7fd02-c189-4d54-ede2-f8ec9051175c"
      },
      "execution_count": null,
      "outputs": [
        {
          "output_type": "display_data",
          "data": {
            "text/plain": [
              "<IPython.core.display.HTML object>"
            ],
            "text/html": [
              "\n",
              "    <div>\n",
              "      \n",
              "      <progress value='239' max='239' style='width:300px; height:20px; vertical-align: middle;'></progress>\n",
              "      [239/239 41:50, Epoch 1/1]\n",
              "    </div>\n",
              "    <table border=\"1\" class=\"dataframe\">\n",
              "  <thead>\n",
              " <tr style=\"text-align: left;\">\n",
              "      <th>Epoch</th>\n",
              "      <th>Training Loss</th>\n",
              "      <th>Validation Loss</th>\n",
              "    </tr>\n",
              "  </thead>\n",
              "  <tbody>\n",
              "    <tr>\n",
              "      <td>1</td>\n",
              "      <td>No log</td>\n",
              "      <td>1.928823</td>\n",
              "    </tr>\n",
              "  </tbody>\n",
              "</table><p>"
            ]
          },
          "metadata": {}
        },
        {
          "output_type": "execute_result",
          "data": {
            "text/plain": [
              "TrainOutput(global_step=239, training_loss=1.9030944313464304, metrics={'train_runtime': 2530.1952, 'train_samples_per_second': 0.754, 'train_steps_per_second': 0.094, 'total_flos': 98108414602800.0, 'train_loss': 1.9030944313464304, 'epoch': 1.0})"
            ]
          },
          "metadata": {},
          "execution_count": 17
        }
      ]
    },
    {
      "cell_type": "code",
      "source": [
        "predictions = trainer.predict(tokenized_validation_dataset).predictions\n",
        "labels_predicted = [id_to_genre[np.argmax(prediction)] for prediction in predictions]\n",
        "\n",
        "plotConfusionMatrix(validation_data[:,2], labels_predicted)\n",
        "\n",
        "accuracy = accuracy_score(validation_data[:,2], labels_predicted)\n",
        "print(f\"{accuracy=:.3f}\")\n",
        "\n",
        "precision = precision_score(validation_data[:,2], labels_predicted, average=\"macro\")\n",
        "print(f\"{precision=:.3f}\")\n",
        "\n",
        "recall = recall_score(validation_data[:,2], labels_predicted, average=\"macro\")\n",
        "print(f\"{recall=:.3f}\")\n",
        "\n",
        "f1 = f1_score(validation_data[:,2], labels_predicted, average=\"macro\")\n",
        "print(f\"{f1=:.3f}\")"
      ],
      "metadata": {
        "id": "Ejg6RdQk2lHN"
      },
      "execution_count": null,
      "outputs": []
    },
    {
      "cell_type": "markdown",
      "source": [
        " 5(c) - Try different values for the model, learning_rate, epochs and batch_size. "
      ],
      "metadata": {
        "id": "SfxDEJCR45zw"
      }
    },
    {
      "cell_type": "markdown",
      "source": [
        "changed model to bert-large-cased"
      ],
      "metadata": {
        "id": "ZPAfgnjII894"
      }
    },
    {
      "cell_type": "code",
      "source": [
        "tokenizer = AutoTokenizer.from_pretrained(\"bert-large-cased\")\n",
        "model = AutoModelForSequenceClassification.from_pretrained('bert-large-cased', num_labels=10, id2label=id_to_genre, label2id=genre_to_id)\n",
        "\n",
        "def preprocess_function(examples):\n",
        "    return tokenizer(examples[\"text\"], max_length=300, padding=True, truncation=True)\n",
        "\n",
        "tokenized_train_dataset = train_dataset.map(preprocess_function, batched=True)\n",
        "tokenized_validation_dataset = validation_dataset.map(preprocess_function, batched=True)\n",
        "\n",
        "tokenized_train_dataset.set_format(type='torch', columns=['input_ids','label','attention_mask'])\n",
        "tokenized_validation_dataset.set_format(type='torch', columns=['input_ids','label','attention_mask'])\n",
        "\n",
        "data_collator = DataCollatorWithPadding(tokenizer=tokenizer)\n",
        "\n",
        "training_args = TrainingArguments(\n",
        "    output_dir=\"language_prediction\",\n",
        "    evaluation_strategy=\"epoch\",\n",
        "    learning_rate=1e-4,\n",
        "    per_device_train_batch_size=8,\n",
        "    per_device_eval_batch_size=8,\n",
        "    num_train_epochs=1,\n",
        "    weight_decay=0,\n",
        "    remove_unused_columns=False\n",
        ")\n",
        "\n",
        "trainer = Trainer(\n",
        "    model=model,\n",
        "    args=training_args,\n",
        "    train_dataset=tokenized_train_dataset,\n",
        "    eval_dataset=tokenized_validation_dataset,\n",
        "    tokenizer=tokenizer,\n",
        "    data_collator=data_collator, \n",
        ")\n",
        "\n",
        "trainer.train()\n",
        "\n",
        "predictions = trainer.predict(tokenized_validation_dataset).predictions\n",
        "labels_predicted = [id_to_genre[np.argmax(prediction)] for prediction in predictions]\n",
        "\n",
        "plotConfusionMatrix(validation_data[:,2], labels_predicted)\n",
        "\n",
        "accuracy = accuracy_score(validation_data[:,2], labels_predicted)\n",
        "print(f\"{accuracy=:.3f}\")\n",
        "\n",
        "precision = precision_score(validation_data[:,2], labels_predicted, average=\"macro\")\n",
        "print(f\"{precision=:.3f}\")\n",
        "\n",
        "recall = recall_score(validation_data[:,2], labels_predicted, average=\"macro\")\n",
        "print(f\"{recall=:.3f}\")\n",
        "\n",
        "f1 = f1_score(validation_data[:,2], labels_predicted, average=\"macro\")\n",
        "print(f\"{f1=:.3f}\")"
      ],
      "metadata": {
        "id": "8J1ROLWp48hJ"
      },
      "execution_count": null,
      "outputs": []
    },
    {
      "cell_type": "markdown",
      "source": [
        "bert-large-cased-whole-word-masking"
      ],
      "metadata": {
        "id": "smynW-yBHfj-"
      }
    },
    {
      "cell_type": "code",
      "source": [
        "\n",
        "tokenizer = AutoTokenizer.from_pretrained(\"bert-large-cased-whole-word-masking\")\n",
        "model = AutoModelForSequenceClassification.from_pretrained('bert-large-cased-whole-word-masking', num_labels=10, id2label=id_to_genre, label2id=genre_to_id)\n",
        "\n",
        "def preprocess_function(examples):\n",
        "    return tokenizer(examples[\"text\"], max_length=300, padding=True, truncation=True)\n",
        "\n",
        "tokenized_train_dataset = train_dataset.map(preprocess_function, batched=True)\n",
        "tokenized_validation_dataset = validation_dataset.map(preprocess_function, batched=True)\n",
        "\n",
        "tokenized_train_dataset.set_format(type='torch', columns=['input_ids','label','attention_mask'])\n",
        "tokenized_validation_dataset.set_format(type='torch', columns=['input_ids','label','attention_mask'])\n",
        "\n",
        "ata_collator = DataCollatorWithPadding(tokenizer=tokenizer)\n",
        "\n",
        "training_args = TrainingArguments(\n",
        "    output_dir=\"language_prediction\",\n",
        "    evaluation_strategy=\"epoch\",\n",
        "    learning_rate=1e-4,\n",
        "    per_device_train_batch_size=16,\n",
        "    per_device_eval_batch_size=16,\n",
        "    num_train_epochs=1,\n",
        "    weight_decay=0,\n",
        "    remove_unused_columns=False\n",
        ")\n",
        "\n",
        "trainer = Trainer(\n",
        "    model=model,\n",
        "    args=training_args,\n",
        "    train_dataset=tokenized_train_dataset,\n",
        "    eval_dataset=tokenized_validation_dataset,\n",
        "    tokenizer=tokenizer,\n",
        "    data_collator=data_collator, \n",
        ")\n",
        "\n",
        "trainer.train()\n",
        "\n",
        "predictions = trainer.predict(tokenized_validation_dataset).predictions\n",
        "labels_predicted = [id_to_genre[np.argmax(prediction)] for prediction in predictions]\n",
        "\n",
        "plotConfusionMatrix(validation_data[:,2], labels_predicted)\n",
        "\n",
        "accuracy = accuracy_score(validation_data[:,2], labels_predicted)\n",
        "print(f\"{accuracy=:.3f}\")\n",
        "\n",
        "precision = precision_score(validation_data[:,2], labels_predicted, average=\"macro\")\n",
        "print(f\"{precision=:.3f}\")\n",
        "\n",
        "recall = recall_score(validation_data[:,2], labels_predicted, average=\"macro\")\n",
        "print(f\"{recall=:.3f}\")\n",
        "\n",
        "f1 = f1_score(validation_data[:,2], labels_predicted, average=\"macro\")\n",
        "print(f\"{f1=:.3f}\")\n",
        "\n",
        "\n"
      ],
      "metadata": {
        "id": "T0ZkqjxnHfQT"
      },
      "execution_count": null,
      "outputs": []
    },
    {
      "cell_type": "markdown",
      "source": [
        "roberta-base-openai-detector"
      ],
      "metadata": {
        "id": "4iJUnFK-JPsa"
      }
    },
    {
      "cell_type": "code",
      "source": [
        "\n",
        "tokenizer = AutoTokenizer.from_pretrained(\"roberta-base-openai-detector\")\n",
        "model = AutoModelForSequenceClassification.from_pretrained('roberta-base-openai-detector', num_labels=10, id2label=id_to_genre, label2id=genre_to_id)\n",
        "\n",
        "def preprocess_function(examples):\n",
        "    return tokenizer(examples[\"text\"], max_length=300, padding=True, truncation=True)\n",
        "\n",
        "tokenized_train_dataset = train_dataset.map(preprocess_function, batched=True)\n",
        "tokenized_validation_dataset = validation_dataset.map(preprocess_function, batched=True)\n",
        "\n",
        "tokenized_train_dataset.set_format(type='torch', columns=['input_ids','label','attention_mask'])\n",
        "tokenized_validation_dataset.set_format(type='torch', columns=['input_ids','label','attention_mask'])\n",
        "\n",
        "ata_collator = DataCollatorWithPadding(tokenizer=tokenizer)\n",
        "\n",
        "training_args = TrainingArguments(\n",
        "    output_dir=\"language_prediction\",\n",
        "    evaluation_strategy=\"epoch\",\n",
        "    learning_rate=1e-3,\n",
        "    per_device_train_batch_size=16,\n",
        "    per_device_eval_batch_size=16,\n",
        "    num_train_epochs=1,\n",
        "    weight_decay=0,\n",
        "    remove_unused_columns=False\n",
        ")\n",
        "\n",
        "trainer = Trainer(\n",
        "    model=model,\n",
        "    args=training_args,\n",
        "    train_dataset=tokenized_train_dataset,\n",
        "    eval_dataset=tokenized_validation_dataset,\n",
        "    tokenizer=tokenizer,\n",
        "    data_collator=data_collator, \n",
        ")\n",
        "\n",
        "trainer.train()\n",
        "\n",
        "predictions = trainer.predict(tokenized_validation_dataset).predictions\n",
        "labels_predicted = [id_to_genre[np.argmax(prediction)] for prediction in predictions]\n",
        "\n",
        "plotConfusionMatrix(validation_data[:,2], labels_predicted)\n",
        "\n",
        "accuracy = accuracy_score(validation_data[:,2], labels_predicted)\n",
        "print(f\"{accuracy=:.3f}\")\n",
        "\n",
        "precision = precision_score(validation_data[:,2], labels_predicted, average=\"macro\")\n",
        "print(f\"{precision=:.3f}\")\n",
        "\n",
        "recall = recall_score(validation_data[:,2], labels_predicted, average=\"macro\")\n",
        "print(f\"{recall=:.3f}\")\n",
        "\n",
        "f1 = f1_score(validation_data[:,2], labels_predicted, average=\"macro\")\n",
        "print(f\"{f1=:.3f}\")\n",
        "\n",
        "\n"
      ],
      "metadata": {
        "id": "5rIYGXwGJQDY"
      },
      "execution_count": null,
      "outputs": []
    },
    {
      "cell_type": "markdown",
      "source": [
        "#Q6 - Conclusions and Future Work "
      ],
      "metadata": {
        "id": "-TNc937qL87T"
      }
    },
    {
      "cell_type": "markdown",
      "source": [
        "6(a) - Evaluate with the test set"
      ],
      "metadata": {
        "id": "D--Gkvv4MFH2"
      }
    },
    {
      "cell_type": "code",
      "source": [
        "\n",
        "\n",
        "predictions = trainer.predict(tokenized_validation_dataset).predictions\n",
        "labels_predicted = [id_to_genre[np.argmax(prediction)] for prediction in predictions]\n",
        "\n",
        "plotConfusionMatrix(test_data[:,2], labels_predicted)\n",
        "\n",
        "accuracy = accuracy_score(test_data[:,2], labels_predicted)\n",
        "print(f\"{accuracy=:.3f}\")\n",
        "\n",
        "precision = precision_score(test_data[:,2], labels_predicted, average=\"macro\")\n",
        "print(f\"{precision=:.3f}\")\n",
        "\n",
        "recall = recall_score(test_data[:,2], labels_predicted, average=\"macro\")\n",
        "print(f\"{recall=:.3f}\")\n",
        "\n",
        "f1 = f1_score(test_data[:,2], labels_predicted, average=\"macro\")\n",
        "print(f\"{f1=:.3f}\")\n"
      ],
      "metadata": {
        "id": "7Mup7m9OMEeC"
      },
      "execution_count": null,
      "outputs": []
    },
    {
      "cell_type": "markdown",
      "source": [
        "6(b) - Manually examine the predictions on the test set"
      ],
      "metadata": {
        "id": "SelObCpEMjMj"
      }
    },
    {
      "cell_type": "code",
      "source": [
        "for i in range(len(test_data[:,1])):\n",
        "  if (test_data[i,2] != labels_predicted[i]):\n",
        "    print(test_data[i,1], test_data[i,2], labels_predicted[i])\n",
        "    print()"
      ],
      "metadata": {
        "id": "kd00pD_hMuwU"
      },
      "execution_count": null,
      "outputs": []
    },
    {
      "cell_type": "code",
      "source": [],
      "metadata": {
        "id": "rPNBkL_LdqZU"
      },
      "execution_count": null,
      "outputs": []
    }
  ]
}